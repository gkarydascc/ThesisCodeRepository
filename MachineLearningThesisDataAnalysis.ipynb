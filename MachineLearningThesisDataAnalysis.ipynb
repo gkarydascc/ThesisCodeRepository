{
  "nbformat": 4,
  "nbformat_minor": 0,
  "metadata": {
    "colab": {
      "name": "MachineLearningThesisDataAnalysis.ipynb",
      "provenance": [],
      "collapsed_sections": []
    },
    "kernelspec": {
      "name": "python3",
      "display_name": "Python 3"
    },
    "language_info": {
      "name": "python"
    }
  },
  "cells": [
    {
      "cell_type": "markdown",
      "source": [
        "# Matching the games with the team stats\n",
        "\n"
      ],
      "metadata": {
        "id": "5pWdMFkem7fV"
      }
    },
    {
      "cell_type": "code",
      "source": [
        "import pandas as pd\n",
        "import os\n",
        "import numpy as np"
      ],
      "metadata": {
        "id": "Q-3VJkolFERX"
      },
      "execution_count": 1,
      "outputs": []
    },
    {
      "cell_type": "code",
      "execution_count": null,
      "metadata": {
        "id": "yVWLZ3KS-U8C"
      },
      "outputs": [],
      "source": [
        "rankings=pd.read_csv('/content/ranking.csv')\n",
        "teams=pd.read_csv('/content/teams.csv')\n",
        "games=pd.read_csv('/content/games.csv')\n",
        "details=pd.read_csv('/content/games_details.csv',low_memory=False)"
      ]
    },
    {
      "cell_type": "markdown",
      "source": [
        "Turns Road and Home records into percentages"
      ],
      "metadata": {
        "id": "3UXCJGjPE2Ek"
      }
    },
    {
      "cell_type": "code",
      "source": [
        "def calculate_home_win_percentage(row):\n",
        "  results=row.HOME_RECORD\n",
        "  results=results.split('-')\n",
        "  wins=int(results[0]) \n",
        "  losses=int(results[1])\n",
        "  total=wins+losses\n",
        "  final=0\n",
        "  if total > 0 :\n",
        "    final=wins/total \n",
        "  return final\n",
        "\n",
        "def calculate_away_win_percentage(row):\n",
        "  results=row.ROAD_RECORD\n",
        "  results=results.split('-')\n",
        "  wins=int(results[0]) \n",
        "  losses=int(results[1])\n",
        "  total=wins+losses\n",
        "  final=0\n",
        "  if total > 0 :\n",
        "    final=wins/total \n",
        "  return final"
      ],
      "metadata": {
        "id": "ERJeCPfzbaOJ"
      },
      "execution_count": null,
      "outputs": []
    },
    {
      "cell_type": "markdown",
      "source": [
        "Matches ball game with home and away teams status after the match"
      ],
      "metadata": {
        "id": "mbVyK3ZGFFbq"
      }
    },
    {
      "cell_type": "code",
      "source": [
        "def matchBallGameHomeDate(row,rankings) : \n",
        "  final='0-0'\n",
        "  date=row.GAME_DATE_EST\n",
        "  home_team=row.HOME_TEAM_ID\n",
        "  home=rankings.loc[(rankings['TEAM_ID']==home_team) & (rankings['STANDINGSDATE'].str.startswith(date))]\n",
        "  #final=home.HOME_RECORD.values[0]\n",
        "  final=home.values[0]\n",
        "  return final\n",
        " \n",
        "def matchBallGameAwayDate(row,rankings) : \n",
        "  final='0-0'\n",
        "  date=row.GAME_DATE_EST\n",
        "  away_team=row.VISITOR_TEAM_ID\n",
        "  away=rankings.loc[(rankings['TEAM_ID']==away_team) & (rankings['STANDINGSDATE'].str.startswith(date))]  \n",
        "  final=away.values[0]\n",
        "  return final"
      ],
      "metadata": {
        "id": "IQcYbRF0zeUW"
      },
      "execution_count": null,
      "outputs": []
    },
    {
      "cell_type": "markdown",
      "source": [
        "Matches team data with game data"
      ],
      "metadata": {
        "id": "VIkCnLV_FhPo"
      }
    },
    {
      "cell_type": "code",
      "source": [
        "print(games)"
      ],
      "metadata": {
        "id": "MbMauBkWBhn6"
      },
      "execution_count": null,
      "outputs": []
    },
    {
      "cell_type": "code",
      "source": [
        "games.drop_duplicates(subset=['GAME_DATE_EST','GAME_ID'],inplace=True)"
      ],
      "metadata": {
        "id": "MvxYNCmGBMJP"
      },
      "execution_count": null,
      "outputs": []
    },
    {
      "cell_type": "code",
      "source": [
        "print(games)"
      ],
      "metadata": {
        "id": "xTCJCkkmBnJC"
      },
      "execution_count": null,
      "outputs": []
    },
    {
      "cell_type": "code",
      "source": [
        "full_games=games\n",
        "full_games['HOME_TEAM_DATA'] = full_games.apply(lambda row: matchBallGameHomeDate(row,rankings), axis=1)\n",
        "full_games['AWAY_TEAM_DATA'] = full_games.apply(lambda row: matchBallGameAwayDate(row,rankings), axis=1)\n",
        "print(full_games)"
      ],
      "metadata": {
        "id": "Tg8mV9zLi7bd"
      },
      "execution_count": null,
      "outputs": []
    },
    {
      "cell_type": "markdown",
      "source": [
        "Categorize each team's data in columns"
      ],
      "metadata": {
        "id": "8JV6U6UNFtg5"
      }
    },
    {
      "cell_type": "code",
      "source": [
        "full_testing=full_games.copy()\n",
        "\n",
        "full_testing[['H_TEAM_ID','H_LEAGUE_ID','H_SEASON_ID','H_STANDINGSDATE','H_CONFERENCE','H_TEAM','H_G','H_W','H_L','H_W_PCT','H_HOME_RECORD',\n",
        "              'H_ROAD_RECORD','H_RETURNTOPLAY']] = pd.DataFrame(full_testing.HOME_TEAM_DATA.tolist(), index= full_testing.index)\n",
        "print(full_testing)\n",
        "full_testing[['A_TEAM_ID','A_LEAGUE_ID','A_SEASON_ID','A_STANDINGSDATE','A_CONFERENCE','A_TEAM','A_G','A_W','A_L','A_W_PCT','A_HOME_RECORD',\n",
        "              'A_ROAD_RECORD','A_RETURNTOPLAY']] = pd.DataFrame(full_testing.AWAY_TEAM_DATA.tolist(), index= full_testing.index)\n",
        "print(full_testing)\n",
        "full_testing.to_csv('game_data_teams_unfinished.csv')\n",
        "final_full_games=full_testing.copy()\n",
        "final_full_games.drop('HOME_TEAM_DATA', inplace=True, axis=1)\n",
        "final_full_games.drop('AWAY_TEAM_DATA', inplace=True, axis=1)\n",
        "final_full_games.to_csv('game_data_teams.csv')\n",
        "print(final_full_games)\n",
        "print(games)"
      ],
      "metadata": {
        "id": "UM_cE_0ujp9v"
      },
      "execution_count": null,
      "outputs": []
    },
    {
      "cell_type": "code",
      "source": [
        "games_teams=final_full_games.copy()"
      ],
      "metadata": {
        "id": "95YM19oCHaKK"
      },
      "execution_count": null,
      "outputs": []
    },
    {
      "cell_type": "markdown",
      "source": [
        "# Initializing Generic Functions\n"
      ],
      "metadata": {
        "id": "AQ76rMSbnKZw"
      }
    },
    {
      "cell_type": "code",
      "source": [
        "import pandas as pd\n",
        "import os\n",
        "import numpy as np\n",
        "rankings=pd.read_csv('/content/ranking.csv')\n",
        "teams=pd.read_csv('/content/teams.csv')\n",
        "games=pd.read_csv('/content/games.csv')\n",
        "#details=pd.read_csv('/content/games_details.csv',low_memory=False)\n",
        "games_teams=pd.read_csv('/content/game_data_teams.csv',low_memory=False)\n",
        "games_teams.drop('Unnamed: 0', inplace=True, axis=1)"
      ],
      "metadata": {
        "id": "ATXjBp0SGFlw"
      },
      "execution_count": null,
      "outputs": []
    },
    {
      "cell_type": "code",
      "source": [
        "def calculateOrderBasedOnDate(table) :\n",
        "  copy=table.copy()\n",
        "  copy=copy.sort_values(by = ['GAME_DATE_EST'], ascending = True,axis=0)\n",
        "  return copy.index"
      ],
      "metadata": {
        "id": "4L48qN1s1ekH"
      },
      "execution_count": null,
      "outputs": []
    },
    {
      "cell_type": "code",
      "source": [
        "def createColumns(columns,mode):\n",
        "  final=[]\n",
        "  for column in columns :\n",
        "    if mode==0 :\n",
        "      home_season_string='H_S_'\n",
        "      away_season_string='A_S_'\n",
        "      home_season_allowed='_A'\n",
        "      away_season_allowed='_A'\n",
        "      home_string='_home'\n",
        "      away_string='_away'\n",
        "      table=[[],[],[],[]]\n",
        "      table_allowed=[[],[],[],[]]\n",
        "    else :\n",
        "      home_season_string='H_L5_'\n",
        "      away_season_string='A_L5_'\n",
        "      home_season_allowed='_A'\n",
        "      away_season_allowed='_A'\n",
        "      home_string='_home'\n",
        "      away_string='_away'\n",
        "      table=[[],[],[],[],[],[],[],[]]\n",
        "      table_allowed=[[],[],[],[],[],[],[],[]]\n",
        "    home_season_string= home_season_string + column\n",
        "    away_season_string= away_season_string + column\n",
        "    home_season_allowed= home_season_string + home_season_allowed\n",
        "    away_season_allowed= away_season_string + away_season_allowed\n",
        "    home_string=column + home_string\n",
        "    away_string=column + away_string\n",
        "    if mode==0 :\n",
        "      table1=[home_season_string,home_season_string,home_string]\n",
        "      table2=[home_season_string,away_season_string,away_string]\n",
        "      table3=[away_season_string,home_season_string,home_string]\n",
        "      table4=[away_season_string,away_season_string,away_string]\n",
        "      table[0]=table1\n",
        "      table[1]=table2\n",
        "      table[2]=table3\n",
        "      table[3]=table4\n",
        "      table1_allowed=[home_season_allowed,home_season_allowed,away_string]\n",
        "      table2_allowed=[home_season_allowed,away_season_allowed,home_string]\n",
        "      table3_allowed=[away_season_allowed,home_season_allowed,away_string]\n",
        "      table4_allowed=[away_season_allowed,away_season_allowed,home_string]\n",
        "      table_allowed[0]=table1_allowed\n",
        "      table_allowed[1]=table2_allowed\n",
        "      table_allowed[2]=table3_allowed\n",
        "      table_allowed[3]=table4_allowed\n",
        "    else :\n",
        "      table1=[home_season_string,home_season_string,home_string,home_string]\n",
        "      table2=[home_season_string,home_season_string,home_string,away_string]\n",
        "      table3=[home_season_string,away_season_string,away_string,home_string]\n",
        "      table4=[home_season_string,away_season_string,away_string,away_string]\n",
        "      table5=[away_season_string,home_season_string,home_string,home_string]\n",
        "      table6=[away_season_string,home_season_string,home_string,away_string]\n",
        "      table7=[away_season_string,away_season_string,away_string,home_string]\n",
        "      table8=[away_season_string,away_season_string,away_string,away_string]\n",
        "      table[0]=table1\n",
        "      table[1]=table2\n",
        "      table[2]=table3\n",
        "      table[3]=table4\n",
        "      table[4]=table5\n",
        "      table[5]=table6\n",
        "      table[6]=table7\n",
        "      table[7]=table8\n",
        "      table1_allowed=[home_season_allowed,home_season_allowed,away_string,away_string]\n",
        "      table2_allowed=[home_season_allowed,home_season_allowed,away_string,home_string]\n",
        "      table3_allowed=[home_season_allowed,away_season_allowed,home_string,away_string]\n",
        "      table4_allowed=[home_season_allowed,away_season_allowed,home_string,home_string]\n",
        "      table5_allowed=[away_season_allowed,home_season_allowed,away_string,away_string]\n",
        "      table6_allowed=[away_season_allowed,home_season_allowed,away_string,home_string]\n",
        "      table7_allowed=[away_season_allowed,away_season_allowed,home_string,away_string]\n",
        "      table8_allowed=[away_season_allowed,away_season_allowed,home_string,home_string]\n",
        "      table_allowed[0]=table1_allowed\n",
        "      table_allowed[1]=table2_allowed\n",
        "      table_allowed[2]=table3_allowed\n",
        "      table_allowed[3]=table4_allowed\n",
        "      table_allowed[4]=table5_allowed\n",
        "      table_allowed[5]=table6_allowed\n",
        "      table_allowed[6]=table7_allowed\n",
        "      table_allowed[7]=table8_allowed\n",
        "    final.append(table)\n",
        "    final.append(table_allowed)\n",
        "  return final"
      ],
      "metadata": {
        "id": "fE4WBzErZIMx"
      },
      "execution_count": null,
      "outputs": []
    },
    {
      "cell_type": "code",
      "source": [
        "def genericFunctionCaller(games_teams,columns,function_called): \n",
        "  max_games=82\n",
        "  #65\n",
        "  ids_of_teams=[1610612737,1610612738,1610612740,1610612741,1610612742,1610612743,1610612745,\n",
        "                1610612746,1610612747,1610612748,1610612749,1610612750,1610612751,1610612752,\n",
        "                1610612753,1610612754,1610612755,1610612756,1610612757,1610612758,1610612759,\n",
        "                1610612760,1610612761,1610612762,1610612763,1610612764,1610612765,1610612766,1610612739,1610612744]\n",
        "  number_of_2019_games=[67,72,72,65,75,73,72,72,71,73,73,64,72,66,73,73,73,73,74,72,71,72,72,72,73,72,66,65,65,65]\n",
        "  for k in range(15):\n",
        "    for i in range(2003,2021,1) :\n",
        "      if i==2011:\n",
        "        games_teams=function_called(games_teams,i,ids_of_teams[k],66,columns)\n",
        "      elif i==2019:\n",
        "        games_teams=function_called(games_teams,i,ids_of_teams[k],number_of_2019_games[k],columns)\n",
        "      elif i==2020:\n",
        "        games_teams=function_called(games_teams,i,ids_of_teams[k],72,columns)\n",
        "      elif i==2021:\n",
        "        games_teams=function_called(games_teams,i,ids_of_teams[k],68,columns)\n",
        "      elif i==2012 :\n",
        "        if ((ids_of_teams[k]==1610612754) | (ids_of_teams[k]==1610612738)):\n",
        "          games_teams=function_called(games_teams,i,ids_of_teams[k],81,columns)\n",
        "        else :\n",
        "          games_teams=function_called(games_teams,i,ids_of_teams[k],max_games,columns)\n",
        "      else :\n",
        "        games_teams=function_called(games_teams,i,ids_of_teams[k],max_games,columns)\n",
        "\n",
        "  for k in range(15,27,1):\n",
        "    for i in range(2003,2021,1) :\n",
        "      if i==2011:\n",
        "        games_teams=function_called(games_teams,i,ids_of_teams[k],66,columns)\n",
        "      elif i==2019:\n",
        "        games_teams=function_called(games_teams,i,ids_of_teams[k],number_of_2019_games[k],columns)\n",
        "      elif i==2020:\n",
        "        games_teams=function_called(games_teams,i,ids_of_teams[k],72,columns)\n",
        "      elif i==2021:\n",
        "        games_teams=function_called(games_teams,i,ids_of_teams[k],68,columns)\n",
        "      elif i==2012 :\n",
        "        if ((ids_of_teams[k]==1610612754) | (ids_of_teams[k]==1610612738)):\n",
        "          games_teams=function_called(games_teams,i,ids_of_teams[k],81,columns)\n",
        "        else :\n",
        "          games_teams=function_called(games_teams,i,ids_of_teams[k],max_games,columns)\n",
        "      else :\n",
        "        games_teams=function_called(games_teams,i,ids_of_teams[k],max_games,columns)\n",
        "  for k in range(27,28,1):\n",
        "    for i in range(2004,2021,1) :\n",
        "      if i==2011:\n",
        "        games_teams=function_called(games_teams,i,ids_of_teams[k],66,columns)\n",
        "      elif i==2019:\n",
        "        games_teams=function_called(games_teams,i,ids_of_teams[k],number_of_2019_games[k],columns)\n",
        "      elif i==2020:\n",
        "        games_teams=function_called(games_teams,i,ids_of_teams[k],72,columns)\n",
        "      elif i==2021:\n",
        "        games_teams=function_called(games_teams,i,ids_of_teams[k],68,columns)\n",
        "      elif i==2012 :\n",
        "        if ((ids_of_teams[k]==1610612754) | (ids_of_teams[k]==1610612738)):\n",
        "          games_teams=function_called(games_teams,i,ids_of_teams[k],81,columns)\n",
        "        else :\n",
        "          games_teams=function_called(games_teams,i,ids_of_teams[k],max_games,columns)\n",
        "      else :\n",
        "        games_teams=function_called(games_teams,i,ids_of_teams[k],max_games,columns)\n",
        "  for k in range(28,30,1):\n",
        "    for i in range(2003,2021,1) :\n",
        "      if i==2011:\n",
        "        games_teams=function_called(games_teams,i,ids_of_teams[k],66,columns)\n",
        "      elif i==2019:\n",
        "        games_teams=function_called(games_teams,i,ids_of_teams[k],number_of_2019_games[k],columns)\n",
        "      elif i==2020:\n",
        "        games_teams=function_called(games_teams,i,ids_of_teams[k],72,columns)\n",
        "      elif i==2021:\n",
        "        games_teams=function_called(games_teams,i,ids_of_teams[k],68,columns)\n",
        "      elif i==2012 :\n",
        "        if ((ids_of_teams[k]==1610612754) | (ids_of_teams[k]==1610612738)):\n",
        "          games_teams=function_called(games_teams,i,ids_of_teams[k],81,columns)\n",
        "        else :\n",
        "          games_teams=function_called(games_teams,i,ids_of_teams[k],max_games,columns)\n",
        "      else :\n",
        "        games_teams=function_called(games_teams,i,ids_of_teams[k],max_games,columns)\n",
        "  return games_teams"
      ],
      "metadata": {
        "id": "0_qqnFJVXpYX"
      },
      "execution_count": null,
      "outputs": []
    },
    {
      "cell_type": "code",
      "source": [
        "def genericFunctionCallerSplitFirst(games_teams,columns,function_called): \n",
        "  max_games=82\n",
        "  #65\n",
        "  ids_of_teams=[1610612737,1610612738,1610612740,1610612741,1610612742,1610612743,1610612745,\n",
        "                1610612746,1610612747,1610612748,1610612749,1610612750,1610612751,1610612752,\n",
        "                1610612753,1610612754,1610612755,1610612756,1610612757,1610612758,1610612759,\n",
        "                1610612760,1610612761,1610612762,1610612763,1610612764,1610612765,1610612766,1610612739,1610612744]\n",
        "  number_of_2019_games=[67,72,72,65,75,73,72,72,71,73,73,64,72,66,73,73,73,73,74,72,71,72,72,72,73,72,66,65,65,65]\n",
        "  for k in range(15):\n",
        "    for i in range(2003,2021,1) :\n",
        "      if i==2011:\n",
        "        games_teams=function_called(games_teams,i,ids_of_teams[k],66,columns)\n",
        "      elif i==2019:\n",
        "        games_teams=function_called(games_teams,i,ids_of_teams[k],number_of_2019_games[k],columns)\n",
        "      elif i==2020:\n",
        "        games_teams=function_called(games_teams,i,ids_of_teams[k],72,columns)\n",
        "      elif i==2021:\n",
        "        games_teams=function_called(games_teams,i,ids_of_teams[k],68,columns)\n",
        "      elif i==2012 :\n",
        "        if ((ids_of_teams[k]==1610612754) | (ids_of_teams[k]==1610612738)):\n",
        "          games_teams=function_called(games_teams,i,ids_of_teams[k],81,columns)\n",
        "        else :\n",
        "          games_teams=function_called(games_teams,i,ids_of_teams[k],max_games,columns)\n",
        "      else :\n",
        "        games_teams=function_called(games_teams,i,ids_of_teams[k],max_games,columns)\n",
        "  return games_teams"
      ],
      "metadata": {
        "id": "CdgDudQ1WxHL"
      },
      "execution_count": null,
      "outputs": []
    },
    {
      "cell_type": "code",
      "source": [
        "def genericFunctionCallerSplitSecond(games_teams,columns,function_called): \n",
        "  max_games=82\n",
        "  #65\n",
        "  ids_of_teams=[1610612737,1610612738,1610612740,1610612741,1610612742,\n",
        "                1610612743,1610612745,1610612746,1610612747,1610612748,1610612749,\n",
        "                1610612750,1610612751,1610612752,1610612753,1610612754,1610612755,\n",
        "                1610612756,1610612757,1610612758,1610612759,1610612760,1610612761,1610612762,1610612763,1610612764,1610612765,1610612766,1610612739,1610612744]\n",
        "  number_of_2019_games=[67,72,72,65,75,73,72,72,71,73,73,64,72,66,73,73,73,73,74,72,71,72,72,72,73,72,66,65,65,65]\n",
        "  for k in range(15,27,1):\n",
        "    for i in range(2003,2021,1) :\n",
        "      if i==2011:\n",
        "        games_teams=function_called(games_teams,i,ids_of_teams[k],66,columns)\n",
        "      elif i==2019:\n",
        "        games_teams=function_called(games_teams,i,ids_of_teams[k],number_of_2019_games[k],columns)\n",
        "      elif i==2020:\n",
        "        games_teams=function_called(games_teams,i,ids_of_teams[k],72,columns)\n",
        "      elif i==2021:\n",
        "        games_teams=function_called(games_teams,i,ids_of_teams[k],68,columns)\n",
        "      elif i==2012 :\n",
        "        if ((ids_of_teams[k]==1610612754) | (ids_of_teams[k]==1610612738)):\n",
        "          games_teams=function_called(games_teams,i,ids_of_teams[k],81,columns)\n",
        "        else :\n",
        "          games_teams=function_called(games_teams,i,ids_of_teams[k],max_games,columns)\n",
        "      else :\n",
        "        games_teams=function_called(games_teams,i,ids_of_teams[k],max_games,columns)\n",
        "  for k in range(27,28,1):\n",
        "    for i in range(2004,2021,1) :\n",
        "      if i==2011:\n",
        "        games_teams=function_called(games_teams,i,ids_of_teams[k],66,columns)\n",
        "      elif i==2019:\n",
        "        games_teams=function_called(games_teams,i,ids_of_teams[k],number_of_2019_games[k],columns)\n",
        "      elif i==2020:\n",
        "        games_teams=function_called(games_teams,i,ids_of_teams[k],72,columns)\n",
        "      elif i==2021:\n",
        "        games_teams=function_called(games_teams,i,ids_of_teams[k],68,columns)\n",
        "      elif i==2012 :\n",
        "        if ((ids_of_teams[k]==1610612754) | (ids_of_teams[k]==1610612738)):\n",
        "          games_teams=function_called(games_teams,i,ids_of_teams[k],81,columns)\n",
        "        else :\n",
        "          games_teams=function_called(games_teams,i,ids_of_teams[k],max_games,columns)\n",
        "      else :\n",
        "        games_teams=function_called(games_teams,i,ids_of_teams[k],max_games,columns)\n",
        "  for k in range(28,30,1):\n",
        "    for i in range(2003,2021,1) :\n",
        "      if i==2011:\n",
        "        games_teams=function_called(games_teams,i,ids_of_teams[k],66,columns)\n",
        "      elif i==2019:\n",
        "        games_teams=function_called(games_teams,i,ids_of_teams[k],number_of_2019_games[k],columns)\n",
        "      elif i==2020:\n",
        "        games_teams=function_called(games_teams,i,ids_of_teams[k],72,columns)\n",
        "      elif i==2021:\n",
        "        games_teams=function_called(games_teams,i,ids_of_teams[k],68,columns)\n",
        "      elif i==2012 :\n",
        "        if ((ids_of_teams[k]==1610612754) | (ids_of_teams[k]==1610612738)):\n",
        "          games_teams=function_called(games_teams,i,ids_of_teams[k],81,columns)\n",
        "        else :\n",
        "          games_teams=function_called(games_teams,i,ids_of_teams[k],max_games,columns)\n",
        "      else :\n",
        "        games_teams=function_called(games_teams,i,ids_of_teams[k],max_games,columns)\n",
        "  return games_teams"
      ],
      "metadata": {
        "id": "uJFkSpdYW_1p"
      },
      "execution_count": null,
      "outputs": []
    },
    {
      "cell_type": "markdown",
      "source": [
        "# Calculating Season Averages, Calculating L5 Game Averages for the basic statistics, defining their functions"
      ],
      "metadata": {
        "id": "9G8wP3uunZZA"
      }
    },
    {
      "cell_type": "code",
      "source": [
        "columns=['PTS','FG_PCT','FT_PCT','FG3_PCT','AST','REB']"
      ],
      "metadata": {
        "id": "D2R0Xu1ar6_U"
      },
      "execution_count": null,
      "outputs": []
    },
    {
      "cell_type": "code",
      "source": [
        "games_teams['H_S_PTS']=0\n",
        "games_teams['H_S_FG_PCT']=0\n",
        "games_teams['H_S_FT_PCT']=0\n",
        "games_teams['H_S_FG3_PCT']=0\n",
        "games_teams['H_S_AST']=0\n",
        "games_teams['H_S_REB']=0\n",
        "games_teams['H_S_PTS_A']=0\n",
        "games_teams['H_S_FG_PCT_A']=0\n",
        "games_teams['H_S_FT_PCT_A']=0\n",
        "games_teams['H_S_FG3_PCT_A']=0\n",
        "games_teams['H_S_AST_A']=0\n",
        "games_teams['H_S_REB_A']=0\n",
        "games_teams['A_S_PTS']=0\n",
        "games_teams['A_S_FG_PCT']=0\n",
        "games_teams['A_S_FT_PCT']=0\n",
        "games_teams['A_S_FG3_PCT']=0\n",
        "games_teams['A_S_AST']=0\n",
        "games_teams['A_S_REB']=0\n",
        "games_teams['A_S_PTS_A']=0\n",
        "games_teams['A_S_FG_PCT_A']=0\n",
        "games_teams['A_S_FT_PCT_A']=0\n",
        "games_teams['A_S_FG3_PCT_A']=0\n",
        "games_teams['A_S_AST_A']=0\n",
        "games_teams['A_S_REB_A']=0"
      ],
      "metadata": {
        "id": "CbNCdaL-MWMq"
      },
      "execution_count": null,
      "outputs": []
    },
    {
      "cell_type": "markdown",
      "source": [
        "Initializing The Season Functions\n"
      ],
      "metadata": {
        "id": "bhl-oxY5n0Zw"
      }
    },
    {
      "cell_type": "code",
      "source": [
        "def calculateTheSeasonAveragesGeneric(table,year,team,max_games,column_names):\n",
        "  columns=createColumns(column_names,0)\n",
        "  results=table.loc[((table['HOME_TEAM_ID']==team) | (table['VISITOR_TEAM_ID']==team)) & (table['SEASON']==year)]\n",
        "  year_classify=20000 + year  \n",
        "  results=results.loc[(results['H_SEASON_ID']==year_classify)|(results['A_SEASON_ID']==year_classify)]\n",
        "  games_played=2\n",
        "  while games_played < max_games :\n",
        "    game_info=results.loc[((results['HOME_TEAM_ID']==team)&(results['H_G']==games_played))|((results['VISITOR_TEAM_ID']==team)&(results['A_G']==games_played))]\n",
        "    previous_game_info=results.loc[((results['HOME_TEAM_ID']==team)&(results['H_G']==(games_played-1)))|((results['VISITOR_TEAM_ID']==team)&(results['A_G']==(games_played-1)))]\n",
        "    games_played=games_played+1 \n",
        "    if (game_info['HOME_TEAM_ID'].values[0]==team) :\n",
        "      if(previous_game_info['HOME_TEAM_ID'].values[0]==team) :\n",
        "        for column in columns :\n",
        "          table.loc[game_info.index,[column[0][0]]]=previous_game_info[column[0][1]].values[0] + previous_game_info[column[0][2]].values[0] \n",
        "          results.loc[game_info.index,[column[0][0]]]=previous_game_info[column[0][1]].values[0] + previous_game_info[column[0][2]].values[0]     \n",
        "      else :\n",
        "        for column in columns :\n",
        "          table.loc[game_info.index,[column[1][0]]]=previous_game_info[column[1][1]].values[0] + previous_game_info[column[1][2]].values[0] \n",
        "          results.loc[game_info.index,[column[1][0]]]=previous_game_info[column[1][1]].values[0] + previous_game_info[column[1][2]].values[0]\n",
        "    else :\n",
        "      if(previous_game_info['HOME_TEAM_ID'].values[0]==team) :\n",
        "        for column in columns :\n",
        "          table.loc[game_info.index,[column[2][0]]]=previous_game_info[column[2][1]].values[0] + previous_game_info[column[2][2]].values[0] \n",
        "          results.loc[game_info.index,[column[2][0]]]=previous_game_info[column[2][1]].values[0] + previous_game_info[column[2][2]].values[0]\n",
        "      else :\n",
        "        for column in columns :\n",
        "          table.loc[game_info.index,[column[3][0]]]=previous_game_info[column[3][1]].values[0] + previous_game_info[column[3][2]].values[0] \n",
        "          results.loc[game_info.index,[column[3][0]]]=previous_game_info[column[3][1]].values[0] + previous_game_info[column[3][2]].values[0]\n",
        "  #\n",
        "  game_info=results.loc[((results['HOME_TEAM_ID']==team)&(results['H_G']==games_played))|((results['VISITOR_TEAM_ID']==team)&(results['A_G']==games_played))]\n",
        "  previous_game_info=results.loc[((results['HOME_TEAM_ID']==team)&(results['H_G']==(games_played-1)))|((results['VISITOR_TEAM_ID']==team)&(results['A_G']==(games_played-1)))]\n",
        "  game_info1=game_info.loc[game_info['HOME_TEAM_ID']==team]\n",
        "  game_info2=game_info.loc[game_info['VISITOR_TEAM_ID']==team]\n",
        "  if (not(game_info1.empty)) :\n",
        "      if(previous_game_info['HOME_TEAM_ID'].values[0]==team) :\n",
        "        for column in columns :\n",
        "          table.loc[game_info1.index,[column[0][0]]]=previous_game_info[column[0][1]].values[0] + previous_game_info[column[0][2]].values[0] \n",
        "          results.loc[game_info1.index,[column[0][0]]]=previous_game_info[column[0][1]].values[0] + previous_game_info[column[0][2]].values[0]    \n",
        "      else :\n",
        "        for column in columns :\n",
        "          table.loc[game_info1.index,[column[1][0]]]=previous_game_info[column[1][1]].values[0] + previous_game_info[column[1][2]].values[0] \n",
        "          results.loc[game_info1.index,[column[1][0]]]=previous_game_info[column[1][1]].values[0] + previous_game_info[column[1][2]].values[0]\n",
        "  if (not(game_info2.empty)) :\n",
        "      if(previous_game_info['HOME_TEAM_ID'].values[0]==team) :\n",
        "        for column in columns :\n",
        "          table.loc[game_info2.index,[column[2][0]]]=previous_game_info[column[2][1]].values[0] + previous_game_info[column[2][2]].values[0] \n",
        "          results.loc[game_info2.index,[column[2][0]]]=previous_game_info[column[2][1]].values[0] + previous_game_info[column[2][2]].values[0]\n",
        "      else :\n",
        "        for column in columns :\n",
        "          table.loc[game_info2.index,[column[3][0]]]=previous_game_info[column[3][1]].values[0] + previous_game_info[column[3][2]].values[0] \n",
        "          results.loc[game_info2.index,[column[3][0]]]=previous_game_info[column[3][1]].values[0] + previous_game_info[column[3][2]].values[0]\n",
        "  return table"
      ],
      "metadata": {
        "id": "maAw3gX4ukc4"
      },
      "execution_count": null,
      "outputs": []
    },
    {
      "cell_type": "code",
      "source": [
        "def fixPostSeasonAveragesGeneric(table,year,team,max_games,column_names):\n",
        "  columns=createColumns(column_names,0)\n",
        "  results=table.loc[(((table['HOME_TEAM_ID']==team)&(table['H_G']==max_games)) | ((table['VISITOR_TEAM_ID']==team)&(table['A_G']==max_games))) & (table['SEASON']==year)]\n",
        "  last_regular_season_game_date=results['GAME_DATE_EST'].min()\n",
        "  lrsg=results.loc[results['GAME_DATE_EST'].str.startswith(last_regular_season_game_date)]\n",
        "  results2=results.copy()\n",
        "  results2=results2.drop(index=lrsg.index)\n",
        "  playoff_games=results.loc[results2.index]\n",
        "  previous_game_info=lrsg\n",
        "  game_info1=playoff_games.loc[playoff_games['HOME_TEAM_ID']==team]\n",
        "  game_info2=playoff_games.loc[playoff_games['VISITOR_TEAM_ID']==team]\n",
        "  if (not(game_info1.empty)) :\n",
        "      if(previous_game_info['HOME_TEAM_ID'].values[0]==team) :\n",
        "        for column in columns :\n",
        "          table.loc[game_info1.index,[column[0][0]]]=previous_game_info[column[0][1]].values[0] + previous_game_info[column[0][2]].values[0]   \n",
        "      else :\n",
        "        for column in columns :\n",
        "          table.loc[game_info1.index,[column[1][0]]]=previous_game_info[column[1][1]].values[0] + previous_game_info[column[1][2]].values[0] \n",
        "  if (not(game_info2.empty)) :\n",
        "      if(previous_game_info['HOME_TEAM_ID'].values[0]==team) :\n",
        "        for column in columns :\n",
        "          table.loc[game_info2.index,[column[2][0]]]=previous_game_info[column[2][1]].values[0] + previous_game_info[column[2][2]].values[0] \n",
        "      else :\n",
        "        for column in columns :\n",
        "          table.loc[game_info2.index,[column[3][0]]]=previous_game_info[column[3][1]].values[0] + previous_game_info[column[3][2]].values[0] \n",
        "  \n",
        "  return table "
      ],
      "metadata": {
        "id": "YlUX_DR6u5bj"
      },
      "execution_count": null,
      "outputs": []
    },
    {
      "cell_type": "code",
      "source": [
        "def calculateTheSeasonAveragesPerGameGeneric(table,year,team,max_games,column_names):\n",
        "  columns=createColumns(column_names,0)\n",
        "  results=table.loc[((table['HOME_TEAM_ID']==team) | (table['VISITOR_TEAM_ID']==team)) & (table['SEASON']==year)]\n",
        "  year_classify=20000 + year  \n",
        "  results=results.loc[(results['H_SEASON_ID']==year_classify)|(results['A_SEASON_ID']==year_classify)]\n",
        "  games_played=2\n",
        "  while games_played < max_games :\n",
        "    game_info=results.loc[((results['HOME_TEAM_ID']==team)&(results['H_G']==games_played))|((results['VISITOR_TEAM_ID']==team)&(results['A_G']==games_played))]\n",
        "    if (game_info['HOME_TEAM_ID'].values[0]==team) :\n",
        "        for column in columns :\n",
        "          table.loc[game_info.index,[column[0][0]]]=game_info[column[0][0]].values[0]/(games_played-1)     \n",
        "    else :\n",
        "        for column in columns :\n",
        "          table.loc[game_info.index,[column[2][0]]]=game_info[column[2][0]].values[0]/(games_played-1)    \n",
        "    games_played=games_played + 1\n",
        "  games_max=results.loc[((results['HOME_TEAM_ID']==team)&(results['H_G']==games_played))|((results['VISITOR_TEAM_ID']==team)&(results['A_G']==games_played))]\n",
        "  last_regular_season_game_date=games_max['GAME_DATE_EST'].min()\n",
        "  lrsg=games_max.loc[games_max['GAME_DATE_EST'].str.startswith(last_regular_season_game_date)]\n",
        "  if (lrsg['HOME_TEAM_ID'].values[0]==team) :\n",
        "        for column in columns :\n",
        "          table.loc[lrsg.index,[column[0][0]]]=lrsg[column[0][0]].values[0]/(games_played-1)     \n",
        "  else :\n",
        "        for column in columns :\n",
        "          table.loc[lrsg.index,[column[2][0]]]=lrsg[column[2][0]].values[0]/(games_played-1) \n",
        "  results2=games_max.copy()\n",
        "  results2=results2.drop(index=lrsg.index)\n",
        "  playoff_games=games_max.loc[results2.index]\n",
        "  game_info1=playoff_games.loc[playoff_games['HOME_TEAM_ID']==team]\n",
        "  game_info2=playoff_games.loc[playoff_games['VISITOR_TEAM_ID']==team]\n",
        "  if (not(game_info1.empty)) :\n",
        "      for column in columns :\n",
        "          table.loc[game_info1.index,[column[0][0]]]=game_info1[column[0][0]].values[0]/(max_games)            \n",
        "  if (not(game_info2.empty)) :\n",
        "      for column in columns :\n",
        "          table.loc[game_info2.index,[column[2][0]]]=game_info2[column[2][0]].values[0]/(max_games)   \n",
        "  return table "
      ],
      "metadata": {
        "id": "sI4YnOzmvJGR"
      },
      "execution_count": null,
      "outputs": []
    },
    {
      "cell_type": "code",
      "source": [
        "games_teams=genericFunctionCallerSplitFirst(games_teams,columns,calculateTheSeasonAveragesGeneric)"
      ],
      "metadata": {
        "id": "SvW8g5gPutcb"
      },
      "execution_count": null,
      "outputs": []
    },
    {
      "cell_type": "code",
      "source": [
        "games_teams=genericFunctionCallerSplitSecond(games_teams,columns,calculateTheSeasonAveragesGeneric)"
      ],
      "metadata": {
        "id": "cC-cTWLENyGu"
      },
      "execution_count": null,
      "outputs": []
    },
    {
      "cell_type": "code",
      "source": [
        "games_teams.to_csv('games_ptstoreb_total.csv')"
      ],
      "metadata": {
        "id": "LRYecHhxu4ZF"
      },
      "execution_count": null,
      "outputs": []
    },
    {
      "cell_type": "code",
      "source": [
        "games_teams=genericFunctionCallerSplitFirst(games_teams,columns,fixPostSeasonAveragesGeneric)"
      ],
      "metadata": {
        "id": "KCKci5XSvWnS"
      },
      "execution_count": null,
      "outputs": []
    },
    {
      "cell_type": "code",
      "source": [
        "games_teams=genericFunctionCallerSplitSecond(games_teams,columns,fixPostSeasonAveragesGeneric)"
      ],
      "metadata": {
        "id": "1yc0R5fVO7uE"
      },
      "execution_count": null,
      "outputs": []
    },
    {
      "cell_type": "code",
      "source": [
        "games_teams=genericFunctionCallerSplitFirst(games_teams,columns,calculateTheSeasonAveragesPerGameGeneric)"
      ],
      "metadata": {
        "id": "EBr_ueZKvhFX"
      },
      "execution_count": null,
      "outputs": []
    },
    {
      "cell_type": "code",
      "source": [
        "games_teams=genericFunctionCallerSplitSecond(games_teams,columns,calculateTheSeasonAveragesPerGameGeneric)"
      ],
      "metadata": {
        "id": "VJQ-KzcCO_SQ"
      },
      "execution_count": null,
      "outputs": []
    },
    {
      "cell_type": "code",
      "source": [
        "games_teams.to_csv('games_ptstoreb_averages.csv')"
      ],
      "metadata": {
        "id": "GXeH1bDaTqAZ"
      },
      "execution_count": null,
      "outputs": []
    },
    {
      "cell_type": "code",
      "source": [
        "import pandas as pd\n",
        "import os\n",
        "games_teams=pd.read_csv('/content/games_ptstoreb_averages.csv')\n",
        "games_teams.drop('Unnamed: 0', inplace=True, axis=1)"
      ],
      "metadata": {
        "id": "2tOPugCV6FpO"
      },
      "execution_count": null,
      "outputs": []
    },
    {
      "cell_type": "markdown",
      "source": [
        "Initializing the L5 game functions"
      ],
      "metadata": {
        "id": "dh2ouWzxn61K"
      }
    },
    {
      "cell_type": "code",
      "source": [
        "def calculateTheSeasonAveragesGenericL5(table,year,team,max_games,column_names):\n",
        "  columns=createColumns(column_names,1)\n",
        "  results=table.loc[((table['HOME_TEAM_ID']==team) | (table['VISITOR_TEAM_ID']==team)) & (table['SEASON']==year)]\n",
        "  year_classify=20000 + year  \n",
        "  results=results.loc[(results['H_SEASON_ID']==year_classify)|(results['A_SEASON_ID']==year_classify)]\n",
        "  \n",
        "  games_played=2\n",
        "  while games_played < 7 :\n",
        "    game_info=results.loc[((results['HOME_TEAM_ID']==team)&(results['H_G']==games_played))|((results['VISITOR_TEAM_ID']==team)&(results['A_G']==games_played))]\n",
        "    previous_game_info=results.loc[((results['HOME_TEAM_ID']==team)&(results['H_G']==(games_played-1)))|((results['VISITOR_TEAM_ID']==team)&(results['A_G']==(games_played-1)))]\n",
        "    games_played=games_played+1 \n",
        "    if (game_info['HOME_TEAM_ID'].values[0]==team) :\n",
        "      if(previous_game_info['HOME_TEAM_ID'].values[0]==team) :\n",
        "          for column in columns :\n",
        "            table.loc[game_info.index,[column[0][0]]]=previous_game_info[column[0][1]].values[0] + previous_game_info[column[0][2]].values[0] \n",
        "            results.loc[game_info.index,[column[0][0]]]=previous_game_info[column[0][1]].values[0] + previous_game_info[column[0][2]].values[0]  \n",
        "      else :\n",
        "          for column in columns :\n",
        "            table.loc[game_info.index,[column[2][0]]]=previous_game_info[column[2][1]].values[0] + previous_game_info[column[2][2]].values[0] \n",
        "            results.loc[game_info.index,[column[2][0]]]=previous_game_info[column[2][1]].values[0] + previous_game_info[column[2][2]].values[0] \n",
        "    else :\n",
        "      if(previous_game_info['HOME_TEAM_ID'].values[0]==team) :\n",
        "          for column in columns :\n",
        "            table.loc[game_info.index,[column[4][0]]]=previous_game_info[column[4][1]].values[0] + previous_game_info[column[4][2]].values[0] \n",
        "            results.loc[game_info.index,[column[4][0]]]=previous_game_info[column[4][1]].values[0] + previous_game_info[column[4][2]].values[0]  \n",
        "      \n",
        "      else :\n",
        "          for column in columns :\n",
        "            table.loc[game_info.index,[column[6][0]]]=previous_game_info[column[6][1]].values[0] + previous_game_info[column[6][2]].values[0] \n",
        "            results.loc[game_info.index,[column[6][0]]]=previous_game_info[column[6][1]].values[0] + previous_game_info[column[6][2]].values[0] \n",
        "       \n",
        "  \n",
        "  while games_played < max_games :\n",
        "    game_info=results.loc[((results['HOME_TEAM_ID']==team)&(results['H_G']==games_played))|((results['VISITOR_TEAM_ID']==team)&(results['A_G']==games_played))]\n",
        "    previous_game_info=results.loc[((results['HOME_TEAM_ID']==team)&(results['H_G']==(games_played-1)))|((results['VISITOR_TEAM_ID']==team)&(results['A_G']==(games_played-1)))]\n",
        "    previous6_game_info=results.loc[((results['HOME_TEAM_ID']==team)&(results['H_G']==(games_played-6)))|((results['VISITOR_TEAM_ID']==team)&(results['A_G']==(games_played-6)))]\n",
        "    games_played=games_played+1 \n",
        "    if (game_info['HOME_TEAM_ID'].values[0]==team) :\n",
        "      if(previous_game_info['HOME_TEAM_ID'].values[0]==team) :\n",
        "          if(previous6_game_info['HOME_TEAM_ID'].values[0]==team) :\n",
        "            for column in columns :\n",
        "              table.loc[game_info.index,[column[0][0]]]=previous_game_info[column[0][1]].values[0] + previous_game_info[column[0][2]].values[0] - previous6_game_info[column[0][3]].values[0] \n",
        "              results.loc[game_info.index,[column[0][0]]]=previous_game_info[column[0][1]].values[0] + previous_game_info[column[0][2]].values[0] - previous6_game_info[column[0][3]].values[0] \n",
        "          else :\n",
        "            for column in columns :\n",
        "              table.loc[game_info.index,[column[1][0]]]=previous_game_info[column[1][1]].values[0] + previous_game_info[column[1][2]].values[0] - previous6_game_info[column[1][3]].values[0] \n",
        "              results.loc[game_info.index,[column[1][0]]]=previous_game_info[column[1][1]].values[0] + previous_game_info[column[1][2]].values[0] - previous6_game_info[column[1][3]].values[0] \n",
        "      else :\n",
        "        if(previous6_game_info['HOME_TEAM_ID'].values[0]==team) :\n",
        "            for column in columns :\n",
        "              table.loc[game_info.index,[column[2][0]]]=previous_game_info[column[2][1]].values[0] + previous_game_info[column[2][2]].values[0] - previous6_game_info[column[2][3]].values[0] \n",
        "              results.loc[game_info.index,[column[2][0]]]=previous_game_info[column[2][1]].values[0] + previous_game_info[column[2][2]].values[0] - previous6_game_info[column[2][3]].values[0] \n",
        "        else :\n",
        "            for column in columns :\n",
        "              table.loc[game_info.index,[column[3][0]]]=previous_game_info[column[3][1]].values[0] + previous_game_info[column[3][2]].values[0] - previous6_game_info[column[3][3]].values[0] \n",
        "              results.loc[game_info.index,[column[3][0]]]=previous_game_info[column[3][1]].values[0] + previous_game_info[column[3][2]].values[0] - previous6_game_info[column[3][3]].values[0] \n",
        "    else :\n",
        "      if(previous_game_info['HOME_TEAM_ID'].values[0]==team) :\n",
        "          if(previous6_game_info['HOME_TEAM_ID'].values[0]==team) :\n",
        "            for column in columns :\n",
        "              table.loc[game_info.index,[column[4][0]]]=previous_game_info[column[4][1]].values[0] + previous_game_info[column[4][2]].values[0] - previous6_game_info[column[4][3]].values[0] \n",
        "              results.loc[game_info.index,[column[4][0]]]=previous_game_info[column[4][1]].values[0] + previous_game_info[column[4][2]].values[0] - previous6_game_info[column[4][3]].values[0] \n",
        "          else :\n",
        "            for column in columns :\n",
        "              table.loc[game_info.index,[column[5][0]]]=previous_game_info[column[5][1]].values[0] + previous_game_info[column[5][2]].values[0] - previous6_game_info[column[5][3]].values[0] \n",
        "              results.loc[game_info.index,[column[5][0]]]=previous_game_info[column[5][1]].values[0] + previous_game_info[column[5][2]].values[0] - previous6_game_info[column[5][3]].values[0] \n",
        "      else :\n",
        "        if(previous6_game_info['HOME_TEAM_ID'].values[0]==team) :\n",
        "            for column in columns :\n",
        "              table.loc[game_info.index,[column[6][0]]]=previous_game_info[column[6][1]].values[0] + previous_game_info[column[6][2]].values[0] - previous6_game_info[column[6][3]].values[0] \n",
        "              results.loc[game_info.index,[column[6][0]]]=previous_game_info[column[6][1]].values[0] + previous_game_info[column[6][2]].values[0] - previous6_game_info[column[6][3]].values[0] \n",
        "        else :\n",
        "            for column in columns :\n",
        "              table.loc[game_info.index,[column[7][0]]]=previous_game_info[column[7][1]].values[0] + previous_game_info[column[7][2]].values[0] - previous6_game_info[column[7][3]].values[0] \n",
        "              results.loc[game_info.index,[column[7][0]]]=previous_game_info[column[7][1]].values[0] + previous_game_info[column[7][2]].values[0] - previous6_game_info[column[7][3]].values[0] \n",
        "  #\n",
        "  game_info=results.loc[((results['HOME_TEAM_ID']==team)&(results['H_G']==games_played))|((results['VISITOR_TEAM_ID']==team)&(results['A_G']==games_played))]\n",
        "  previous_game_info=results.loc[((results['HOME_TEAM_ID']==team)&(results['H_G']==(games_played-1)))|((results['VISITOR_TEAM_ID']==team)&(results['A_G']==(games_played-1)))]\n",
        "  previous6_game_info=results.loc[((results['HOME_TEAM_ID']==team)&(results['H_G']==(games_played-6)))|((results['VISITOR_TEAM_ID']==team)&(results['A_G']==(games_played-6)))]\n",
        "  game_info1=game_info.loc[game_info['HOME_TEAM_ID']==team]\n",
        "  game_info2=game_info.loc[game_info['VISITOR_TEAM_ID']==team]\n",
        "  if (not(game_info1.empty)) :\n",
        "      if(previous_game_info['HOME_TEAM_ID'].values[0]==team) :\n",
        "          if(previous6_game_info['HOME_TEAM_ID'].values[0]==team) :\n",
        "            for column in columns :\n",
        "              table.loc[game_info1.index,[column[0][0]]]=previous_game_info[column[0][1]].values[0] + previous_game_info[column[0][2]].values[0] - previous6_game_info[column[0][3]].values[0] \n",
        "              results.loc[game_info1.index,[column[0][0]]]=previous_game_info[column[0][1]].values[0] + previous_game_info[column[0][2]].values[0] - previous6_game_info[column[0][3]].values[0] \n",
        "          else :\n",
        "            for column in columns :\n",
        "              table.loc[game_info1.index,[column[1][0]]]=previous_game_info[column[1][1]].values[0] + previous_game_info[column[1][2]].values[0] - previous6_game_info[column[1][3]].values[0] \n",
        "              results.loc[game_info1.index,[column[1][0]]]=previous_game_info[column[1][1]].values[0] + previous_game_info[column[1][2]].values[0] - previous6_game_info[column[1][3]].values[0] \n",
        "      else :\n",
        "        if(previous6_game_info['HOME_TEAM_ID'].values[0]==team) :\n",
        "            for column in columns :\n",
        "              table.loc[game_info1.index,[column[2][0]]]=previous_game_info[column[2][1]].values[0] + previous_game_info[column[2][2]].values[0] - previous6_game_info[column[2][3]].values[0] \n",
        "              results.loc[game_info1.index,[column[2][0]]]=previous_game_info[column[2][1]].values[0] + previous_game_info[column[2][2]].values[0] - previous6_game_info[column[2][3]].values[0] \n",
        "        else :\n",
        "            for column in columns :\n",
        "              table.loc[game_info1.index,[column[3][0]]]=previous_game_info[column[3][1]].values[0] + previous_game_info[column[3][2]].values[0] - previous6_game_info[column[3][3]].values[0] \n",
        "              results.loc[game_info1.index,[column[3][0]]]=previous_game_info[column[3][1]].values[0] + previous_game_info[column[3][2]].values[0] - previous6_game_info[column[3][3]].values[0] \n",
        "  if (not(game_info2.empty)) :\n",
        "      if(previous_game_info['HOME_TEAM_ID'].values[0]==team) :\n",
        "          if(previous6_game_info['HOME_TEAM_ID'].values[0]==team) :\n",
        "            for column in columns :\n",
        "              table.loc[game_info2.index,[column[4][0]]]=previous_game_info[column[4][1]].values[0] + previous_game_info[column[4][2]].values[0] - previous6_game_info[column[4][3]].values[0] \n",
        "              results.loc[game_info2.index,[column[4][0]]]=previous_game_info[column[4][1]].values[0] + previous_game_info[column[4][2]].values[0] - previous6_game_info[column[4][3]].values[0] \n",
        "          else :\n",
        "            for column in columns :\n",
        "              table.loc[game_info2.index,[column[5][0]]]=previous_game_info[column[5][1]].values[0] + previous_game_info[column[5][2]].values[0] - previous6_game_info[column[5][3]].values[0] \n",
        "              results.loc[game_info2.index,[column[5][0]]]=previous_game_info[column[5][1]].values[0] + previous_game_info[column[5][2]].values[0] - previous6_game_info[column[5][3]].values[0] \n",
        "      else :\n",
        "        if(previous6_game_info['HOME_TEAM_ID'].values[0]==team) :\n",
        "            for column in columns :\n",
        "              table.loc[game_info2.index,[column[6][0]]]=previous_game_info[column[6][1]].values[0] + previous_game_info[column[6][2]].values[0] - previous6_game_info[column[6][3]].values[0] \n",
        "              results.loc[game_info2.index,[column[6][0]]]=previous_game_info[column[6][1]].values[0] + previous_game_info[column[6][2]].values[0] - previous6_game_info[column[6][3]].values[0] \n",
        "        else :\n",
        "            for column in columns :\n",
        "              table.loc[game_info2.index,[column[7][0]]]=previous_game_info[column[7][1]].values[0] + previous_game_info[column[7][2]].values[0] - previous6_game_info[column[7][3]].values[0] \n",
        "              results.loc[game_info2.index,[column[7][0]]]=previous_game_info[column[7][1]].values[0] + previous_game_info[column[7][2]].values[0] - previous6_game_info[column[7][3]].values[0]\n",
        "\n",
        "  return table "
      ],
      "metadata": {
        "id": "futiWDjMN9yW"
      },
      "execution_count": null,
      "outputs": []
    },
    {
      "cell_type": "code",
      "source": [
        "def fixPostSeasonAveragesGenericL5(table,year,team,max_games,column_names) :\n",
        "  columns=createColumns(column_names,1)\n",
        "  results=table.loc[(((table['HOME_TEAM_ID']==team)&(table['H_G']==max_games)) | ((table['VISITOR_TEAM_ID']==team)&(table['A_G']==max_games))) & (table['SEASON']==year)]\n",
        "  results_regular=table.loc[((table['HOME_TEAM_ID']==team) | (table['VISITOR_TEAM_ID']==team)) & (table['SEASON']==year)]\n",
        "  last_regular_season_game_date=results['GAME_DATE_EST'].min()\n",
        "  lrsg=results.loc[results['GAME_DATE_EST'].str.startswith(last_regular_season_game_date)]\n",
        "  last=lrsg.copy()\n",
        "  results2=results.copy()\n",
        "  results=results.drop(index=lrsg.index)\n",
        "  amount_of_games=len(results)\n",
        "  index=calculateOrderBasedOnDate(results)\n",
        "  games_back=5\n",
        "  amount_fixed=0\n",
        "  while amount_fixed < amount_of_games :\n",
        "    game_info_temp=results.loc[index[amount_fixed]]\n",
        "    game_info=results.loc[results['GAME_ID']==game_info_temp['GAME_ID']]\n",
        "    if amount_fixed==0 :\n",
        "      previous_game_info=last\n",
        "    else :\n",
        "      previous_game_info_temp=results.loc[index[amount_fixed-1]]\n",
        "      previous_game_info=results.loc[results['GAME_ID']==previous_game_info_temp['GAME_ID']]\n",
        "    if (5-amount_fixed)>0 :\n",
        "      previous6_game_info=results_regular.loc[((results_regular['HOME_TEAM_ID']==team)&(results_regular['H_G']==(max_games-(5-amount_fixed))))|((results_regular['VISITOR_TEAM_ID']==team)&(results_regular['A_G']==(max_games-(5-amount_fixed))))]\n",
        "    elif (5-amount_fixed)==0 :\n",
        "      previous6_game_info=last\n",
        "    else :\n",
        "      previous6_game_info_temp=results.loc[index[amount_fixed-6]]\n",
        "      previous6_game_info=results.loc[results['GAME_ID']==previous6_game_info_temp['GAME_ID']]\n",
        "    amount_fixed=amount_fixed+1\n",
        "    if (game_info['HOME_TEAM_ID'].values[0]==team) :\n",
        "      if(previous_game_info['HOME_TEAM_ID'].values[0]==team) :\n",
        "          if(previous6_game_info['HOME_TEAM_ID'].values[0]==team) :\n",
        "            for column in columns :\n",
        "              table.loc[game_info.index,[column[0][0]]]=previous_game_info[column[0][1]].values[0] + previous_game_info[column[0][2]].values[0] - previous6_game_info[column[0][3]].values[0] \n",
        "              results.loc[game_info.index,[column[0][0]]]=previous_game_info[column[0][1]].values[0] + previous_game_info[column[0][2]].values[0] - previous6_game_info[column[0][3]].values[0] \n",
        "          else :\n",
        "            for column in columns :\n",
        "              table.loc[game_info.index,[column[1][0]]]=previous_game_info[column[1][1]].values[0] + previous_game_info[column[1][2]].values[0] - previous6_game_info[column[1][3]].values[0] \n",
        "              results.loc[game_info.index,[column[1][0]]]=previous_game_info[column[1][1]].values[0] + previous_game_info[column[1][2]].values[0] - previous6_game_info[column[1][3]].values[0] \n",
        "      else :\n",
        "        if(previous6_game_info['HOME_TEAM_ID'].values[0]==team) :\n",
        "            for column in columns :\n",
        "              table.loc[game_info.index,[column[2][0]]]=previous_game_info[column[2][1]].values[0] + previous_game_info[column[2][2]].values[0] - previous6_game_info[column[2][3]].values[0] \n",
        "              results.loc[game_info.index,[column[2][0]]]=previous_game_info[column[2][1]].values[0] + previous_game_info[column[2][2]].values[0] - previous6_game_info[column[2][3]].values[0] \n",
        "        else :\n",
        "            for column in columns :\n",
        "              table.loc[game_info.index,[column[3][0]]]=previous_game_info[column[3][1]].values[0] + previous_game_info[column[3][2]].values[0] - previous6_game_info[column[3][3]].values[0] \n",
        "              results.loc[game_info.index,[column[3][0]]]=previous_game_info[column[3][1]].values[0] + previous_game_info[column[3][2]].values[0] - previous6_game_info[column[3][3]].values[0] \n",
        "    else :\n",
        "      if(previous_game_info['HOME_TEAM_ID'].values[0]==team) :\n",
        "          if(previous6_game_info['HOME_TEAM_ID'].values[0]==team) :\n",
        "            for column in columns :\n",
        "              table.loc[game_info.index,[column[4][0]]]=previous_game_info[column[4][1]].values[0] + previous_game_info[column[4][2]].values[0] - previous6_game_info[column[4][3]].values[0] \n",
        "              results.loc[game_info.index,[column[4][0]]]=previous_game_info[column[4][1]].values[0] + previous_game_info[column[4][2]].values[0] - previous6_game_info[column[4][3]].values[0] \n",
        "          else :\n",
        "            for column in columns :\n",
        "              table.loc[game_info.index,[column[5][0]]]=previous_game_info[column[5][1]].values[0] + previous_game_info[column[5][2]].values[0] - previous6_game_info[column[5][3]].values[0] \n",
        "              results.loc[game_info.index,[column[5][0]]]=previous_game_info[column[5][1]].values[0] + previous_game_info[column[5][2]].values[0] - previous6_game_info[column[5][3]].values[0] \n",
        "      else :\n",
        "        if(previous6_game_info['HOME_TEAM_ID'].values[0]==team) :\n",
        "            for column in columns :\n",
        "              table.loc[game_info.index,[column[6][0]]]=previous_game_info[column[6][1]].values[0] + previous_game_info[column[6][2]].values[0] - previous6_game_info[column[6][3]].values[0] \n",
        "              results.loc[game_info.index,[column[6][0]]]=previous_game_info[column[6][1]].values[0] + previous_game_info[column[6][2]].values[0] - previous6_game_info[column[6][3]].values[0] \n",
        "        else :\n",
        "            for column in columns :\n",
        "              table.loc[game_info.index,[column[7][0]]]=previous_game_info[column[7][1]].values[0] + previous_game_info[column[7][2]].values[0] - previous6_game_info[column[7][3]].values[0] \n",
        "              results.loc[game_info.index,[column[7][0]]]=previous_game_info[column[7][1]].values[0] + previous_game_info[column[7][2]].values[0] - previous6_game_info[column[7][3]].values[0] \n",
        "  return table"
      ],
      "metadata": {
        "id": "ZuagSTxnOJRS"
      },
      "execution_count": null,
      "outputs": []
    },
    {
      "cell_type": "code",
      "source": [
        "def calculateTheSeasonAveragesPerGameGenericL5(table,year,team,max_games,column_names):\n",
        "  columns=createColumns(column_names,1)\n",
        "  results=table.loc[((table['HOME_TEAM_ID']==team) | (table['VISITOR_TEAM_ID']==team)) & (table['SEASON']==year)]\n",
        "  year_classify=20000 + year  \n",
        "  results=results.loc[(results['H_SEASON_ID']==year_classify)|(results['A_SEASON_ID']==year_classify)]\n",
        "  games_played=2\n",
        "  while games_played < 7 :\n",
        "    game_info=results.loc[((results['HOME_TEAM_ID']==team)&(results['H_G']==games_played))|((results['VISITOR_TEAM_ID']==team)&(results['A_G']==games_played))]\n",
        "    if (game_info['HOME_TEAM_ID'].values[0]==team) :\n",
        "        for column in columns :\n",
        "          table.loc[game_info.index,[column[0][0]]]=game_info[column[0][0]].values[0]/(games_played-1)     \n",
        "    else :\n",
        "        for column in columns :\n",
        "          table.loc[game_info.index,[column[4][0]]]=game_info[column[4][0]].values[0]/(games_played-1)    \n",
        "    games_played=games_played + 1\n",
        "  while games_played < max_games :\n",
        "    game_info=results.loc[((results['HOME_TEAM_ID']==team)&(results['H_G']==games_played))|((results['VISITOR_TEAM_ID']==team)&(results['A_G']==games_played))]\n",
        "    if (game_info['HOME_TEAM_ID'].values[0]==team) :\n",
        "        for column in columns :\n",
        "          table.loc[game_info.index,[column[0][0]]]=game_info[column[0][0]].values[0]/5   \n",
        "    else :\n",
        "        for column in columns :\n",
        "          table.loc[game_info.index,[column[4][0]]]=game_info[column[4][0]].values[0]/5   \n",
        "    games_played=games_played + 1\n",
        "  games_max=results.loc[((results['HOME_TEAM_ID']==team)&(results['H_G']==games_played))|((results['VISITOR_TEAM_ID']==team)&(results['A_G']==games_played))]\n",
        "  last_regular_season_game_date=games_max['GAME_DATE_EST'].min()\n",
        "  lrsg=games_max.loc[games_max['GAME_DATE_EST'].str.startswith(last_regular_season_game_date)]\n",
        "  if (lrsg['HOME_TEAM_ID'].values[0]==team) :\n",
        "        for column in columns :\n",
        "          table.loc[lrsg.index,[column[0][0]]]=lrsg[column[0][0]].values[0]/5    \n",
        "  else :\n",
        "        for column in columns :\n",
        "          table.loc[lrsg.index,[column[4][0]]]=lrsg[column[4][0]].values[0]/5\n",
        "  results2=games_max.copy()\n",
        "  results2=results2.drop(index=lrsg.index)\n",
        "  playoff_games=games_max.loc[results2.index]\n",
        "  amount_of_games=len(playoff_games)\n",
        "  index=calculateOrderBasedOnDate(playoff_games)\n",
        "  amount_fixed=0\n",
        "  while amount_fixed < amount_of_games :\n",
        "    game_info_temp=playoff_games.loc[index[amount_fixed]]\n",
        "    game_info=playoff_games.loc[playoff_games['GAME_ID']==game_info_temp['GAME_ID']]\n",
        "    amount_fixed=amount_fixed + 1\n",
        "    if (game_info['HOME_TEAM_ID'].values[0]==team) :\n",
        "      for column in columns :\n",
        "          table.loc[game_info.index,[column[0][0]]]=game_info[column[0][0]].values[0]/5          \n",
        "    else :\n",
        "      for column in columns :\n",
        "          table.loc[game_info.index,[column[4][0]]]=game_info[column[4][0]].values[0]/5  \n",
        "  return table "
      ],
      "metadata": {
        "id": "S808fo1AOTGR"
      },
      "execution_count": null,
      "outputs": []
    },
    {
      "cell_type": "code",
      "source": [
        "games_teams['H_L5_PTS']=0\n",
        "games_teams['H_L5_FG_PCT']=0\n",
        "games_teams['H_L5_FT_PCT']=0\n",
        "games_teams['H_L5_FG3_PCT']=0\n",
        "games_teams['H_L5_AST']=0\n",
        "games_teams['H_L5_REB']=0\n",
        "games_teams['H_L5_PTS_A']=0\n",
        "games_teams['H_L5_FG_PCT_A']=0\n",
        "games_teams['H_L5_FT_PCT_A']=0\n",
        "games_teams['H_L5_FG3_PCT_A']=0\n",
        "games_teams['H_L5_AST_A']=0\n",
        "games_teams['H_L5_REB_A']=0\n",
        "games_teams['A_L5_PTS']=0\n",
        "games_teams['A_L5_FG_PCT']=0\n",
        "games_teams['A_L5_FT_PCT']=0\n",
        "games_teams['A_L5_FG3_PCT']=0\n",
        "games_teams['A_L5_AST']=0\n",
        "games_teams['A_L5_REB']=0\n",
        "games_teams['A_L5_PTS_A']=0\n",
        "games_teams['A_L5_FG_PCT_A']=0\n",
        "games_teams['A_L5_FT_PCT_A']=0\n",
        "games_teams['A_L5_FG3_PCT_A']=0\n",
        "games_teams['A_L5_AST_A']=0\n",
        "games_teams['A_L5_REB_A']=0"
      ],
      "metadata": {
        "id": "eDwka130Q6I-"
      },
      "execution_count": null,
      "outputs": []
    },
    {
      "cell_type": "code",
      "source": [
        "games_teams=genericFunctionCallerSplitFirst(games_teams,columns,calculateTheSeasonAveragesGenericL5)"
      ],
      "metadata": {
        "id": "2IzPcxbjm7nF"
      },
      "execution_count": null,
      "outputs": []
    },
    {
      "cell_type": "code",
      "source": [
        "games_teams=genericFunctionCallerSplitSecond(games_teams,columns,calculateTheSeasonAveragesGenericL5)"
      ],
      "metadata": {
        "id": "ZqxTtPBH0qAE"
      },
      "execution_count": null,
      "outputs": []
    },
    {
      "cell_type": "code",
      "source": [
        "games_teams.to_csv('games_ptstoreb_averages_l5_total.csv')"
      ],
      "metadata": {
        "id": "LcusyoDcRN50"
      },
      "execution_count": null,
      "outputs": []
    },
    {
      "cell_type": "code",
      "source": [
        "games_teams=genericFunctionCallerSplitFirst(games_teams,columns,fixPostSeasonAveragesGenericL5)"
      ],
      "metadata": {
        "id": "UfhquwlHEOPt"
      },
      "execution_count": null,
      "outputs": []
    },
    {
      "cell_type": "code",
      "source": [
        "games_teams=genericFunctionCallerSplitSecond(games_teams,columns,fixPostSeasonAveragesGenericL5)"
      ],
      "metadata": {
        "id": "_ZM-vghFbrXa"
      },
      "execution_count": null,
      "outputs": []
    },
    {
      "cell_type": "code",
      "source": [
        "games_teams=genericFunctionCallerSplitFirst(games_teams,columns,calculateTheSeasonAveragesPerGameGenericL5)"
      ],
      "metadata": {
        "id": "uuvuuYDeRRir"
      },
      "execution_count": null,
      "outputs": []
    },
    {
      "cell_type": "code",
      "source": [
        "games_teams=genericFunctionCallerSplitSecond(games_teams,columns,calculateTheSeasonAveragesPerGameGenericL5)"
      ],
      "metadata": {
        "id": "FB9bzndcb2iX"
      },
      "execution_count": null,
      "outputs": []
    },
    {
      "cell_type": "code",
      "source": [
        "games_teams.to_csv('games_ptstoreb_averages_l5_averages.csv')"
      ],
      "metadata": {
        "id": "bhBpI64rRXc4"
      },
      "execution_count": null,
      "outputs": []
    },
    {
      "cell_type": "markdown",
      "source": [
        ""
      ],
      "metadata": {
        "id": "OLDz7oploEru"
      }
    },
    {
      "cell_type": "markdown",
      "source": [
        "# Add the rest of the statistics, their averages, and win loss functions plus netrating calculation"
      ],
      "metadata": {
        "id": "mJ809cBJoE7S"
      }
    },
    {
      "cell_type": "code",
      "source": [
        "games_teams=pd.read_csv('/content/games_ptstoreb_averages_l5_averages.csv')\n",
        "games_teams.drop('Unnamed: 0', inplace=True, axis=1)\n",
        "details=pd.read_csv('/content/games_details.csv',low_memory=False)"
      ],
      "metadata": {
        "id": "vyVFU3aCUq_r"
      },
      "execution_count": null,
      "outputs": []
    },
    {
      "cell_type": "code",
      "source": [
        "def addStatsToGames(row,details,team,column) :\n",
        "  game=row['GAME_ID']\n",
        "  team=row[team]\n",
        "  data=details.loc[(details['GAME_ID']==game) & (details['TEAM_ID']==team)]\n",
        "  column = data[column].fillna(0)\n",
        "  sum=int(column.sum())\n",
        "  return sum"
      ],
      "metadata": {
        "id": "HublEP3KUvBC"
      },
      "execution_count": null,
      "outputs": []
    },
    {
      "cell_type": "code",
      "source": [
        "columns=[['STL','STL_home','STL_away'],['BLK','BLK_home','BLK_away'],['TO','TO_home','TO_away']]\n",
        "for column in columns :\n",
        "  games_teams[column[1]]=games_teams.apply(lambda row:addStatsToGames(row,details,'HOME_TEAM_ID',column[0]), axis=1)\n",
        "for column in columns :\n",
        "  games_teams[column[2]]=games_teams.apply(lambda row:addStatsToGames(row,details,'VISITOR_TEAM_ID',column[0]), axis=1)\n",
        "print(games_teams)"
      ],
      "metadata": {
        "id": "TY_Z0m1XVSq3"
      },
      "execution_count": null,
      "outputs": []
    },
    {
      "cell_type": "code",
      "source": [
        "columns=['STL','BLK','TO']"
      ],
      "metadata": {
        "id": "qxf_tKXdVj9i"
      },
      "execution_count": null,
      "outputs": []
    },
    {
      "cell_type": "code",
      "source": [
        "games_teams['H_S_STL']=0\n",
        "games_teams['H_S_BLK']=0\n",
        "games_teams['H_S_TO']=0\n",
        "games_teams['H_S_STL_A']=0\n",
        "games_teams['H_S_BLK_A']=0\n",
        "games_teams['H_S_TO_A']=0\n",
        "games_teams['A_S_STL']=0\n",
        "games_teams['A_S_BLK']=0\n",
        "games_teams['A_S_TO']=0\n",
        "games_teams['A_S_STL_A']=0\n",
        "games_teams['A_S_BLK_A']=0\n",
        "games_teams['A_S_TO_A']=0"
      ],
      "metadata": {
        "id": "iy-u-1Wz0qrd"
      },
      "execution_count": null,
      "outputs": []
    },
    {
      "cell_type": "code",
      "source": [
        "games_teams=genericFunctionCallerSplitFirst(games_teams,columns,calculateTheSeasonAveragesGeneric)"
      ],
      "metadata": {
        "id": "FEAqM6WacQjD"
      },
      "execution_count": null,
      "outputs": []
    },
    {
      "cell_type": "code",
      "source": [
        "games_teams=genericFunctionCallerSplitSecond(games_teams,columns,calculateTheSeasonAveragesGeneric)"
      ],
      "metadata": {
        "id": "cUqev_YWcQjE"
      },
      "execution_count": null,
      "outputs": []
    },
    {
      "cell_type": "code",
      "source": [
        "games_teams=genericFunctionCallerSplitFirst(games_teams,columns,fixPostSeasonAveragesGeneric)"
      ],
      "metadata": {
        "id": "PSoaL54gcYYU"
      },
      "execution_count": null,
      "outputs": []
    },
    {
      "cell_type": "code",
      "source": [
        "games_teams=genericFunctionCallerSplitSecond(games_teams,columns,fixPostSeasonAveragesGeneric)"
      ],
      "metadata": {
        "id": "XKsULhYQcYYV"
      },
      "execution_count": null,
      "outputs": []
    },
    {
      "cell_type": "code",
      "source": [
        "games_teams=genericFunctionCallerSplitFirst(games_teams,columns,calculateTheSeasonAveragesPerGameGeneric)"
      ],
      "metadata": {
        "id": "7FPGQFHbcYYW"
      },
      "execution_count": null,
      "outputs": []
    },
    {
      "cell_type": "code",
      "source": [
        "games_teams=genericFunctionCallerSplitSecond(games_teams,columns,calculateTheSeasonAveragesPerGameGeneric)"
      ],
      "metadata": {
        "id": "4VuCo5ZYcYYW"
      },
      "execution_count": null,
      "outputs": []
    },
    {
      "cell_type": "code",
      "source": [
        "games_teams['H_L5_STL']=0\n",
        "games_teams['H_L5_BLK']=0\n",
        "games_teams['H_L5_TO']=0\n",
        "games_teams['H_L5_STL_A']=0\n",
        "games_teams['H_L5_BLK_A']=0\n",
        "games_teams['H_L5_TO_A']=0\n",
        "games_teams['A_L5_STL']=0\n",
        "games_teams['A_L5_BLK']=0\n",
        "games_teams['A_L5_TO']=0\n",
        "games_teams['A_L5_STL_A']=0\n",
        "games_teams['A_L5_BLK_A']=0\n",
        "games_teams['A_L5_TO_A']=0"
      ],
      "metadata": {
        "id": "547obNki0qSt"
      },
      "execution_count": null,
      "outputs": []
    },
    {
      "cell_type": "code",
      "source": [
        "games_teams=genericFunctionCallerSplitFirst(games_teams,columns,calculateTheSeasonAveragesGenericL5)"
      ],
      "metadata": {
        "id": "BM0JaFOXcbZ2"
      },
      "execution_count": null,
      "outputs": []
    },
    {
      "cell_type": "code",
      "source": [
        "games_teams=genericFunctionCallerSplitSecond(games_teams,columns,calculateTheSeasonAveragesGenericL5)"
      ],
      "metadata": {
        "id": "47rgO89GcbZ3"
      },
      "execution_count": null,
      "outputs": []
    },
    {
      "cell_type": "code",
      "source": [
        "games_teams=genericFunctionCallerSplitFirst(games_teams,columns,fixPostSeasonAveragesGenericL5)"
      ],
      "metadata": {
        "id": "eVHGPTnTcbZ4"
      },
      "execution_count": null,
      "outputs": []
    },
    {
      "cell_type": "code",
      "source": [
        "games_teams=genericFunctionCallerSplitSecond(games_teams,columns,fixPostSeasonAveragesGenericL5)"
      ],
      "metadata": {
        "id": "HUnirTRocbZ4"
      },
      "execution_count": null,
      "outputs": []
    },
    {
      "cell_type": "code",
      "source": [
        "games_teams=genericFunctionCallerSplitFirst(games_teams,columns,calculateTheSeasonAveragesPerGameGenericL5)"
      ],
      "metadata": {
        "id": "EVSC7hyrcbZ5"
      },
      "execution_count": null,
      "outputs": []
    },
    {
      "cell_type": "code",
      "source": [
        "games_teams=genericFunctionCallerSplitSecond(games_teams,columns,calculateTheSeasonAveragesPerGameGenericL5)"
      ],
      "metadata": {
        "id": "4iiJhoYfcbZ5"
      },
      "execution_count": null,
      "outputs": []
    },
    {
      "cell_type": "code",
      "source": [
        "games_teams.to_csv('l5ptstoto.csv')"
      ],
      "metadata": {
        "id": "MFqKS2wwkESC"
      },
      "execution_count": null,
      "outputs": []
    },
    {
      "cell_type": "code",
      "source": [
        "def calculate_home_season_wins(row):\n",
        "  wins=row.H_W\n",
        "  games=row.H_G - 1\n",
        "  if row.HOME_TEAM_WINS==1 :\n",
        "    wins=wins-1\n",
        "  final=0\n",
        "  if games > 0 :\n",
        "    final=wins/games\n",
        "  return final"
      ],
      "metadata": {
        "id": "uBj6britNBTi"
      },
      "execution_count": null,
      "outputs": []
    },
    {
      "cell_type": "code",
      "source": [
        "def calculate_away_season_wins(row):\n",
        "  wins=row.A_W\n",
        "  games=row.A_G - 1\n",
        "  if row.HOME_TEAM_WINS==0 :\n",
        "    wins=wins-1\n",
        "  final=0\n",
        "  if games > 0 :\n",
        "    final=wins/games\n",
        "  return final"
      ],
      "metadata": {
        "id": "zWW00Xn9QyrC"
      },
      "execution_count": null,
      "outputs": []
    },
    {
      "cell_type": "code",
      "source": [
        "def calculateTheWL5(table,year,team,max_games):\n",
        "  results=table.loc[((table['HOME_TEAM_ID']==team) | (table['VISITOR_TEAM_ID']==team)) & (table['SEASON']==year)]\n",
        "  year_classify=20000 + year  \n",
        "  results=results.loc[(results['H_SEASON_ID']==year_classify)|(results['A_SEASON_ID']==year_classify)]\n",
        "  \n",
        "  games_played=2\n",
        "  while games_played < 7 :\n",
        "    game_info=results.loc[((results['HOME_TEAM_ID']==team)&(results['H_G']==games_played))|((results['VISITOR_TEAM_ID']==team)&(results['A_G']==games_played))]\n",
        "    previous_game_info=results.loc[((results['HOME_TEAM_ID']==team)&(results['H_G']==(games_played-1)))|((results['VISITOR_TEAM_ID']==team)&(results['A_G']==(games_played-1)))]\n",
        "    games_played=games_played+1 \n",
        "    if (game_info['HOME_TEAM_ID'].values[0]==team) :\n",
        "      if(previous_game_info['HOME_TEAM_ID'].values[0]==team) :\n",
        "          table.loc[game_info.index,['H_L5_W']]=previous_game_info['H_L5_W'].values[0] + previous_game_info['HOME_TEAM_WINS'].values[0] \n",
        "          results.loc[game_info.index,['H_L5_W']]=previous_game_info['H_L5_W'].values[0] + previous_game_info['HOME_TEAM_WINS'].values[0] \n",
        "      else :\n",
        "          table.loc[game_info.index,['H_L5_W']]=previous_game_info['A_L5_W'].values[0] + (1 - previous_game_info['HOME_TEAM_WINS'].values[0])\n",
        "          results.loc[game_info.index,['H_L5_W']]=previous_game_info['A_L5_W'].values[0] + (1 - previous_game_info['HOME_TEAM_WINS'].values[0]) \n",
        "    else :\n",
        "      if(previous_game_info['HOME_TEAM_ID'].values[0]==team) :\n",
        "          table.loc[game_info.index,['A_L5_W']]=previous_game_info['H_L5_W'].values[0] + previous_game_info['HOME_TEAM_WINS'].values[0] \n",
        "          results.loc[game_info.index,['A_L5_W']]=previous_game_info['H_L5_W'].values[0] + previous_game_info['HOME_TEAM_WINS'].values[0] \n",
        "      \n",
        "      else :\n",
        "          table.loc[game_info.index,['A_L5_W']]=previous_game_info['A_L5_W'].values[0] + (1 - previous_game_info['HOME_TEAM_WINS'].values[0])\n",
        "          results.loc[game_info.index,['A_L5_W']]=previous_game_info['A_L5_W'].values[0] + (1 - previous_game_info['HOME_TEAM_WINS'].values[0]) \n",
        "       \n",
        "  while games_played < max_games :\n",
        "    game_info=results.loc[((results['HOME_TEAM_ID']==team)&(results['H_G']==games_played))|((results['VISITOR_TEAM_ID']==team)&(results['A_G']==games_played))]\n",
        "    previous_game_info=results.loc[((results['HOME_TEAM_ID']==team)&(results['H_G']==(games_played-1)))|((results['VISITOR_TEAM_ID']==team)&(results['A_G']==(games_played-1)))]\n",
        "    previous6_game_info=results.loc[((results['HOME_TEAM_ID']==team)&(results['H_G']==(games_played-6)))|((results['VISITOR_TEAM_ID']==team)&(results['A_G']==(games_played-6)))]\n",
        "    games_played=games_played+1 \n",
        "    if (game_info['HOME_TEAM_ID'].values[0]==team) :\n",
        "      if(previous_game_info['HOME_TEAM_ID'].values[0]==team) :\n",
        "          if(previous6_game_info['HOME_TEAM_ID'].values[0]==team) :\n",
        "            table.loc[game_info.index,['H_L5_W']]=previous_game_info['H_L5_W'].values[0] + previous_game_info['HOME_TEAM_WINS'].values[0] - previous6_game_info['HOME_TEAM_WINS'].values[0]\n",
        "            results.loc[game_info.index,['H_L5_W']]=previous_game_info['H_L5_W'].values[0] + previous_game_info['HOME_TEAM_WINS'].values[0] - previous6_game_info['HOME_TEAM_WINS'].values[0]\n",
        "          else :\n",
        "            table.loc[game_info.index,['H_L5_W']]=previous_game_info['H_L5_W'].values[0] + previous_game_info['HOME_TEAM_WINS'].values[0] - (1 - previous6_game_info['HOME_TEAM_WINS'].values[0])\n",
        "            results.loc[game_info.index,['H_L5_W']]=previous_game_info['H_L5_W'].values[0] + previous_game_info['HOME_TEAM_WINS'].values[0] - (1 - previous6_game_info['HOME_TEAM_WINS'].values[0])\n",
        "      else :\n",
        "        if(previous6_game_info['HOME_TEAM_ID'].values[0]==team) :\n",
        "            table.loc[game_info.index,['H_L5_W']]=previous_game_info['A_L5_W'].values[0] + (1 - previous_game_info['HOME_TEAM_WINS'].values[0]) - previous6_game_info['HOME_TEAM_WINS'].values[0]\n",
        "            results.loc[game_info.index,['H_L5_W']]=previous_game_info['A_L5_W'].values[0] + (1 - previous_game_info['HOME_TEAM_WINS'].values[0]) - previous6_game_info['HOME_TEAM_WINS'].values[0]\n",
        "        else :\n",
        "            table.loc[game_info.index,['H_L5_W']]=previous_game_info['A_L5_W'].values[0] + (1 - previous_game_info['HOME_TEAM_WINS'].values[0]) - (1 - previous6_game_info['HOME_TEAM_WINS'].values[0]) \n",
        "            results.loc[game_info.index,['H_L5_W']]=previous_game_info['A_L5_W'].values[0] + (1 - previous_game_info['HOME_TEAM_WINS'].values[0]) - (1 - previous6_game_info['HOME_TEAM_WINS'].values[0])\n",
        "    else :\n",
        "      if(previous_game_info['HOME_TEAM_ID'].values[0]==team) :\n",
        "          if(previous6_game_info['HOME_TEAM_ID'].values[0]==team) :\n",
        "            table.loc[game_info.index,['A_L5_W']]=previous_game_info['H_L5_W'].values[0] + previous_game_info['HOME_TEAM_WINS'].values[0] - previous6_game_info['HOME_TEAM_WINS'].values[0]\n",
        "            results.loc[game_info.index,['A_L5_W']]=previous_game_info['H_L5_W'].values[0] + previous_game_info['HOME_TEAM_WINS'].values[0] - previous6_game_info['HOME_TEAM_WINS'].values[0]\n",
        "          else :\n",
        "            table.loc[game_info.index,['A_L5_W']]=previous_game_info['H_L5_W'].values[0] + previous_game_info['HOME_TEAM_WINS'].values[0] - (1 - previous6_game_info['HOME_TEAM_WINS'].values[0])\n",
        "            results.loc[game_info.index,['A_L5_W']]=previous_game_info['H_L5_W'].values[0] + previous_game_info['HOME_TEAM_WINS'].values[0] - (1 - previous6_game_info['HOME_TEAM_WINS'].values[0])\n",
        "      else :\n",
        "        if(previous6_game_info['HOME_TEAM_ID'].values[0]==team) :\n",
        "            table.loc[game_info.index,['A_L5_W']]=previous_game_info['A_L5_W'].values[0] + (1 - previous_game_info['HOME_TEAM_WINS'].values[0]) - previous6_game_info['HOME_TEAM_WINS'].values[0]\n",
        "            results.loc[game_info.index,['A_L5_W']]=previous_game_info['A_L5_W'].values[0] + (1 - previous_game_info['HOME_TEAM_WINS'].values[0]) - previous6_game_info['HOME_TEAM_WINS'].values[0]\n",
        "        else :\n",
        "            table.loc[game_info.index,['A_L5_W']]=previous_game_info['A_L5_W'].values[0] + (1 - previous_game_info['HOME_TEAM_WINS'].values[0]) - (1 - previous6_game_info['HOME_TEAM_WINS'].values[0]) \n",
        "            results.loc[game_info.index,['A_L5_W']]=previous_game_info['A_L5_W'].values[0] + (1 - previous_game_info['HOME_TEAM_WINS'].values[0]) - (1 - previous6_game_info['HOME_TEAM_WINS'].values[0])\n",
        "  #\n",
        "  game_info=results.loc[((results['HOME_TEAM_ID']==team)&(results['H_G']==games_played))|((results['VISITOR_TEAM_ID']==team)&(results['A_G']==games_played))]\n",
        "  previous_game_info=results.loc[((results['HOME_TEAM_ID']==team)&(results['H_G']==(games_played-1)))|((results['VISITOR_TEAM_ID']==team)&(results['A_G']==(games_played-1)))]\n",
        "  previous6_game_info=results.loc[((results['HOME_TEAM_ID']==team)&(results['H_G']==(games_played-6)))|((results['VISITOR_TEAM_ID']==team)&(results['A_G']==(games_played-6)))]\n",
        "  game_info1=game_info.loc[game_info['HOME_TEAM_ID']==team]\n",
        "  game_info2=game_info.loc[game_info['VISITOR_TEAM_ID']==team]\n",
        "  if (not(game_info1.empty)) :\n",
        "      if(previous_game_info['HOME_TEAM_ID'].values[0]==team) :\n",
        "          if(previous6_game_info['HOME_TEAM_ID'].values[0]==team) :\n",
        "            table.loc[game_info1.index,['H_L5_W']]=previous_game_info['H_L5_W'].values[0] + previous_game_info['HOME_TEAM_WINS'].values[0] - previous6_game_info['HOME_TEAM_WINS'].values[0]\n",
        "            results.loc[game_info1.index,['H_L5_W']]=previous_game_info['H_L5_W'].values[0] + previous_game_info['HOME_TEAM_WINS'].values[0] - previous6_game_info['HOME_TEAM_WINS'].values[0]\n",
        "          else :\n",
        "            table.loc[game_info1.index,['H_L5_W']]=previous_game_info['H_L5_W'].values[0] + previous_game_info['HOME_TEAM_WINS'].values[0] - (1 - previous6_game_info['HOME_TEAM_WINS'].values[0])\n",
        "            results.loc[game_info1.index,['H_L5_W']]=previous_game_info['H_L5_W'].values[0] + previous_game_info['HOME_TEAM_WINS'].values[0] - (1 - previous6_game_info['HOME_TEAM_WINS'].values[0])\n",
        "      else :\n",
        "        if(previous6_game_info['HOME_TEAM_ID'].values[0]==team) :\n",
        "            table.loc[game_info1.index,['H_L5_W']]=previous_game_info['A_L5_W'].values[0] + (1 - previous_game_info['HOME_TEAM_WINS'].values[0]) - previous6_game_info['HOME_TEAM_WINS'].values[0]\n",
        "            results.loc[game_info1.index,['H_L5_W']]=previous_game_info['A_L5_W'].values[0] + (1 - previous_game_info['HOME_TEAM_WINS'].values[0]) - previous6_game_info['HOME_TEAM_WINS'].values[0]\n",
        "        else :\n",
        "            table.loc[game_info1.index,['H_L5_W']]=previous_game_info['A_L5_W'].values[0] + (1 - previous_game_info['HOME_TEAM_WINS'].values[0]) - (1 - previous6_game_info['HOME_TEAM_WINS'].values[0]) \n",
        "            results.loc[game_info1.index,['H_L5_W']]=previous_game_info['A_L5_W'].values[0] + (1 - previous_game_info['HOME_TEAM_WINS'].values[0]) - (1 - previous6_game_info['HOME_TEAM_WINS'].values[0])\n",
        "  if (not(game_info2.empty)) :\n",
        "      if(previous_game_info['HOME_TEAM_ID'].values[0]==team) :\n",
        "          if(previous6_game_info['HOME_TEAM_ID'].values[0]==team) :\n",
        "            table.loc[game_info2.index,['A_L5_W']]=previous_game_info['H_L5_W'].values[0] + previous_game_info['HOME_TEAM_WINS'].values[0] - previous6_game_info['HOME_TEAM_WINS'].values[0]\n",
        "            results.loc[game_info2.index,['A_L5_W']]=previous_game_info['H_L5_W'].values[0] + previous_game_info['HOME_TEAM_WINS'].values[0] - previous6_game_info['HOME_TEAM_WINS'].values[0]\n",
        "          else :\n",
        "            table.loc[game_info2.index,['A_L5_W']]=previous_game_info['H_L5_W'].values[0] + previous_game_info['HOME_TEAM_WINS'].values[0] - (1 - previous6_game_info['HOME_TEAM_WINS'].values[0])\n",
        "            results.loc[game_info2.index,['A_L5_W']]=previous_game_info['H_L5_W'].values[0] + previous_game_info['HOME_TEAM_WINS'].values[0] - (1 - previous6_game_info['HOME_TEAM_WINS'].values[0])\n",
        "      else :\n",
        "        if(previous6_game_info['HOME_TEAM_ID'].values[0]==team) :\n",
        "            table.loc[game_info2.index,['A_L5_W']]=previous_game_info['A_L5_W'].values[0] + (1 - previous_game_info['HOME_TEAM_WINS'].values[0]) - previous6_game_info['HOME_TEAM_WINS'].values[0]\n",
        "            results.loc[game_info2.index,['A_L5_W']]=previous_game_info['A_L5_W'].values[0] + (1 - previous_game_info['HOME_TEAM_WINS'].values[0]) - previous6_game_info['HOME_TEAM_WINS'].values[0]\n",
        "        else :\n",
        "            table.loc[game_info2.index,['A_L5_W']]=previous_game_info['A_L5_W'].values[0] + (1 - previous_game_info['HOME_TEAM_WINS'].values[0]) - (1 - previous6_game_info['HOME_TEAM_WINS'].values[0]) \n",
        "            results.loc[game_info2.index,['A_L5_W']]=previous_game_info['A_L5_W'].values[0] + (1 - previous_game_info['HOME_TEAM_WINS'].values[0]) - (1 - previous6_game_info['HOME_TEAM_WINS'].values[0])\n",
        "\n",
        "  return table "
      ],
      "metadata": {
        "id": "UFHGit96WdsD"
      },
      "execution_count": null,
      "outputs": []
    },
    {
      "cell_type": "code",
      "source": [
        "def fixPostSeasonAveragesWL5(table,year,team,max_games):\n",
        "  results=table.loc[(((table['HOME_TEAM_ID']==team)&(table['H_G']==max_games)) | ((table['VISITOR_TEAM_ID']==team)&(table['A_G']==max_games))) & (table['SEASON']==year)]\n",
        "  results_regular=table.loc[((table['HOME_TEAM_ID']==team) | (table['VISITOR_TEAM_ID']==team)) & (table['SEASON']==year)]\n",
        "  last_regular_season_game_date=results['GAME_DATE_EST'].min()\n",
        "  lrsg=results.loc[results['GAME_DATE_EST'].str.startswith(last_regular_season_game_date)]\n",
        "  last=lrsg.copy()\n",
        "  results2=results.copy()\n",
        "  results=results.drop(index=lrsg.index)\n",
        "  amount_of_games=len(results)\n",
        "  index=calculateOrderBasedOnDate(results)\n",
        "  games_back=5\n",
        "  amount_fixed=0\n",
        "  while amount_fixed < amount_of_games :\n",
        "    game_info_temp=results.loc[index[amount_fixed]]\n",
        "    game_info=results.loc[results['GAME_ID']==game_info_temp['GAME_ID']]\n",
        "    if amount_fixed==0 :\n",
        "      previous_game_info=last\n",
        "    else :\n",
        "      previous_game_info_temp=results.loc[index[amount_fixed-1]]\n",
        "      previous_game_info=results.loc[results['GAME_ID']==previous_game_info_temp['GAME_ID']]\n",
        "    if (5-amount_fixed)>0 :\n",
        "      previous6_game_info=results_regular.loc[((results_regular['HOME_TEAM_ID']==team)&(results_regular['H_G']==(max_games-(5-amount_fixed))))|((results_regular['VISITOR_TEAM_ID']==team)&(results_regular['A_G']==(max_games-(5-amount_fixed))))]\n",
        "    elif (5-amount_fixed)==0 :\n",
        "      previous6_game_info=last\n",
        "    else :\n",
        "      previous6_game_info_temp=results.loc[index[amount_fixed-6]]\n",
        "      previous6_game_info=results.loc[results['GAME_ID']==previous6_game_info_temp['GAME_ID']]\n",
        "    amount_fixed=amount_fixed+1\n",
        "    if (game_info['HOME_TEAM_ID'].values[0]==team) :\n",
        "      if(previous_game_info['HOME_TEAM_ID'].values[0]==team) :\n",
        "          if(previous6_game_info['HOME_TEAM_ID'].values[0]==team) :\n",
        "            table.loc[game_info.index,['H_L5_W']]=previous_game_info['H_L5_W'].values[0] + previous_game_info['HOME_TEAM_WINS'].values[0] - previous6_game_info['HOME_TEAM_WINS'].values[0]\n",
        "            results.loc[game_info.index,['H_L5_W']]=previous_game_info['H_L5_W'].values[0] + previous_game_info['HOME_TEAM_WINS'].values[0] - previous6_game_info['HOME_TEAM_WINS'].values[0]\n",
        "          else :\n",
        "            table.loc[game_info.index,['H_L5_W']]=previous_game_info['H_L5_W'].values[0] + previous_game_info['HOME_TEAM_WINS'].values[0] - (1 - previous6_game_info['HOME_TEAM_WINS'].values[0])\n",
        "            results.loc[game_info.index,['H_L5_W']]=previous_game_info['H_L5_W'].values[0] + previous_game_info['HOME_TEAM_WINS'].values[0] - (1 - previous6_game_info['HOME_TEAM_WINS'].values[0])\n",
        "      else :\n",
        "        if(previous6_game_info['HOME_TEAM_ID'].values[0]==team) :\n",
        "            table.loc[game_info.index,['H_L5_W']]=previous_game_info['A_L5_W'].values[0] + (1 - previous_game_info['HOME_TEAM_WINS'].values[0]) - previous6_game_info['HOME_TEAM_WINS'].values[0]\n",
        "            results.loc[game_info.index,['H_L5_W']]=previous_game_info['A_L5_W'].values[0] + (1 - previous_game_info['HOME_TEAM_WINS'].values[0]) - previous6_game_info['HOME_TEAM_WINS'].values[0]\n",
        "        else :\n",
        "            table.loc[game_info.index,['H_L5_W']]=previous_game_info['A_L5_W'].values[0] + (1 - previous_game_info['HOME_TEAM_WINS'].values[0]) - (1 - previous6_game_info['HOME_TEAM_WINS'].values[0]) \n",
        "            results.loc[game_info.index,['H_L5_W']]=previous_game_info['A_L5_W'].values[0] + (1 - previous_game_info['HOME_TEAM_WINS'].values[0]) - (1 - previous6_game_info['HOME_TEAM_WINS'].values[0])\n",
        "    else :\n",
        "      if(previous_game_info['HOME_TEAM_ID'].values[0]==team) :\n",
        "          if(previous6_game_info['HOME_TEAM_ID'].values[0]==team) :\n",
        "            table.loc[game_info.index,['A_L5_W']]=previous_game_info['H_L5_W'].values[0] + previous_game_info['HOME_TEAM_WINS'].values[0] - previous6_game_info['HOME_TEAM_WINS'].values[0]\n",
        "            results.loc[game_info.index,['A_L5_W']]=previous_game_info['H_L5_W'].values[0] + previous_game_info['HOME_TEAM_WINS'].values[0] - previous6_game_info['HOME_TEAM_WINS'].values[0]\n",
        "          else :\n",
        "            table.loc[game_info.index,['A_L5_W']]=previous_game_info['H_L5_W'].values[0] + previous_game_info['HOME_TEAM_WINS'].values[0] - (1 - previous6_game_info['HOME_TEAM_WINS'].values[0])\n",
        "            results.loc[game_info.index,['A_L5_W']]=previous_game_info['H_L5_W'].values[0] + previous_game_info['HOME_TEAM_WINS'].values[0] - (1 - previous6_game_info['HOME_TEAM_WINS'].values[0])\n",
        "      else :\n",
        "        if(previous6_game_info['HOME_TEAM_ID'].values[0]==team) :\n",
        "            table.loc[game_info.index,['A_L5_W']]=previous_game_info['A_L5_W'].values[0] + (1 - previous_game_info['HOME_TEAM_WINS'].values[0]) - previous6_game_info['HOME_TEAM_WINS'].values[0]\n",
        "            results.loc[game_info.index,['A_L5_W']]=previous_game_info['A_L5_W'].values[0] + (1 - previous_game_info['HOME_TEAM_WINS'].values[0]) - previous6_game_info['HOME_TEAM_WINS'].values[0]\n",
        "        else :\n",
        "            table.loc[game_info.index,['A_L5_W']]=previous_game_info['A_L5_W'].values[0] + (1 - previous_game_info['HOME_TEAM_WINS'].values[0]) - (1 - previous6_game_info['HOME_TEAM_WINS'].values[0]) \n",
        "            results.loc[game_info.index,['A_L5_W']]=previous_game_info['A_L5_W'].values[0] + (1 - previous_game_info['HOME_TEAM_WINS'].values[0]) - (1 - previous6_game_info['HOME_TEAM_WINS'].values[0])\n",
        "  return table "
      ],
      "metadata": {
        "id": "jDp0E404kr39"
      },
      "execution_count": null,
      "outputs": []
    },
    {
      "cell_type": "code",
      "source": [
        "def calculateTheSeasonAveragesPerGameWL5(table,year,team,max_games):\n",
        "  results=table.loc[((table['HOME_TEAM_ID']==team) | (table['VISITOR_TEAM_ID']==team)) & (table['SEASON']==year)]\n",
        "  year_classify=20000 + year  \n",
        "  results=results.loc[(results['H_SEASON_ID']==year_classify)|(results['A_SEASON_ID']==year_classify)]\n",
        "  games_played=2\n",
        "  while games_played < 7 :\n",
        "    game_info=results.loc[((results['HOME_TEAM_ID']==team)&(results['H_G']==games_played))|((results['VISITOR_TEAM_ID']==team)&(results['A_G']==games_played))]\n",
        "    previous_game_info=game_info\n",
        "    if (game_info['HOME_TEAM_ID'].values[0]==team) :\n",
        "      if(previous_game_info['HOME_TEAM_ID'].values[0]==team) :\n",
        "        table.loc[game_info.index,['H_L5_WP']]=game_info['H_L5_W'].values[0]/(games_played-1)       \n",
        "    else :\n",
        "      if(previous_game_info['VISITOR_TEAM_ID'].values[0]==team) :\n",
        "        table.loc[game_info.index,['A_L5_WP']]=previous_game_info['A_L5_W'].values[0]/(games_played-1)\n",
        "    games_played=games_played + 1\n",
        "  while games_played < max_games :\n",
        "    game_info=results.loc[((results['HOME_TEAM_ID']==team)&(results['H_G']==games_played))|((results['VISITOR_TEAM_ID']==team)&(results['A_G']==games_played))]\n",
        "    previous_game_info=game_info\n",
        "    if (game_info['HOME_TEAM_ID'].values[0]==team) :\n",
        "      if(previous_game_info['HOME_TEAM_ID'].values[0]==team) :\n",
        "        table.loc[game_info.index,['H_L5_WP']]=game_info['H_L5_W'].values[0]/5     \n",
        "    else :\n",
        "      if(previous_game_info['VISITOR_TEAM_ID'].values[0]==team) :\n",
        "        table.loc[game_info.index,['A_L5_WP']]=previous_game_info['A_L5_W'].values[0]/5\n",
        "    games_played=games_played + 1\n",
        "  game_info=results.loc[((results['HOME_TEAM_ID']==team)&(results['H_G']==games_played))|((results['VISITOR_TEAM_ID']==team)&(results['A_G']==games_played))]\n",
        "  previous_game_info=game_info\n",
        "  game_info1=game_info.loc[game_info['HOME_TEAM_ID']==team]\n",
        "  game_info2=game_info.loc[game_info['VISITOR_TEAM_ID']==team]\n",
        "  if (not(game_info1.empty)) :\n",
        "      if(not(game_info1.empty)) :\n",
        "        table.loc[game_info1.index,['H_L5_WP']]=game_info1['H_L5_W'].values[0]/5  \n",
        "  if (not(game_info2.empty)) :\n",
        "      if(not(game_info2.empty)) :\n",
        "        table.loc[game_info2.index,['A_L5_WP']]=game_info2['A_L5_W'].values[0]/5\n",
        "        \n",
        "  return table  "
      ],
      "metadata": {
        "id": "2MvbxR0ifZf_"
      },
      "execution_count": null,
      "outputs": []
    },
    {
      "cell_type": "code",
      "source": [
        "games_teams['H_S_WP']=games_teams.apply(lambda row: calculate_home_season_wins(row), axis=1)\n",
        "games_teams['A_S_WP']=games_teams.apply(lambda row: calculate_away_season_wins(row), axis=1)"
      ],
      "metadata": {
        "id": "qrIiJoUvhhf8"
      },
      "execution_count": null,
      "outputs": []
    },
    {
      "cell_type": "code",
      "source": [
        "games_teams['H_L5_W']=0\n",
        "games_teams['A_L5_W']=0\n",
        "games_teams['H_L5_WP']=0\n",
        "games_teams['A_L5_WP']=0"
      ],
      "metadata": {
        "id": "m6gZOzqHjGbu"
      },
      "execution_count": null,
      "outputs": []
    },
    {
      "cell_type": "code",
      "source": [
        "max_games=82\n",
        "#65\n",
        "ids_of_teams=[1610612737,1610612738,1610612740,1610612741,1610612742,1610612743,1610612745,\n",
        "              1610612746,1610612747,1610612748,1610612749,1610612750,1610612751,1610612752,\n",
        "              1610612753,1610612754,1610612755,1610612756,1610612757,1610612758,1610612759,\n",
        "              1610612760,1610612761,1610612762,1610612763,1610612764,1610612765,1610612766,1610612739,1610612744]\n",
        "number_of_2019_games=[67,72,72,65,75,73,72,72,71,73,73,64,72,66,73,73,73,73,74,72,71,72,72,72,73,72,66,65,65,65]\n",
        "for k in range(27):\n",
        "  for i in range(2003,2021,1) :\n",
        "    if i==2011:\n",
        "      games_teams=calculateTheWL5(games_teams,i,ids_of_teams[k],66)\n",
        "    elif i==2019:\n",
        "      games_teams=calculateTheWL5(games_teams,i,ids_of_teams[k],number_of_2019_games[k])\n",
        "    elif i==2020:\n",
        "      games_teams=calculateTheWL5(games_teams,i,ids_of_teams[k],72)\n",
        "    elif i==2021:\n",
        "      games_teams=calculateTheWL5(games_teams,i,ids_of_teams[k],68)\n",
        "    elif i==2012 :\n",
        "      if ((ids_of_teams[k]==1610612754) | (ids_of_teams[k]==1610612738)):\n",
        "        games_teams=calculateTheWL5(games_teams,i,ids_of_teams[k],81)\n",
        "      else :\n",
        "        games_teams=calculateTheWL5(games_teams,i,ids_of_teams[k],max_games)\n",
        "    else :\n",
        "      games_teams=calculateTheWL5(games_teams,i,ids_of_teams[k],max_games)\n",
        "for k in range(27,28,1):\n",
        "  for i in range(2004,2021,1) :\n",
        "    if i==2011:\n",
        "      games_teams=calculateTheWL5(games_teams,i,ids_of_teams[k],66)\n",
        "    elif i==2019:\n",
        "      games_teams=calculateTheWL5(games_teams,i,ids_of_teams[k],number_of_2019_games[k])\n",
        "    elif i==2020:\n",
        "      games_teams=calculateTheWL5(games_teams,i,ids_of_teams[k],72)\n",
        "    elif i==2021:\n",
        "      games_teams=calculateTheWL5(games_teams,i,ids_of_teams[k],68)\n",
        "    elif i==2012 :\n",
        "      if ((ids_of_teams[k]==1610612754) | (ids_of_teams[k]==1610612738)):\n",
        "        games_teams=calculateTheWL5(games_teams,i,ids_of_teams[k],81)\n",
        "      else :\n",
        "        games_teams=calculateTheWL5(games_teams,i,ids_of_teams[k],max_games)\n",
        "    else :\n",
        "      games_teams=calculateTheWL5(games_teams,i,ids_of_teams[k],max_games)\n",
        "for k in range(28,30,1):\n",
        "  for i in range(2003,2021,1) :\n",
        "    if i==2011:\n",
        "      games_teams=calculateTheWL5(games_teams,i,ids_of_teams[k],66)\n",
        "    elif i==2019:\n",
        "      games_teams=calculateTheWL5(games_teams,i,ids_of_teams[k],number_of_2019_games[k])\n",
        "    elif i==2020:\n",
        "      games_teams=calculateTheWL5(games_teams,i,ids_of_teams[k],72)\n",
        "    elif i==2021:\n",
        "      games_teams=calculateTheWL5(games_teams,i,ids_of_teams[k],68)\n",
        "    elif i==2012 :\n",
        "      if ((ids_of_teams[k]==1610612754) | (ids_of_teams[k]==1610612738)):\n",
        "        games_teams=calculateTheWL5(games_teams,i,ids_of_teams[k],81)\n",
        "      else :\n",
        "        games_teams=calculateTheWL5(games_teams,i,ids_of_teams[k],max_games)\n",
        "    else :\n",
        "      games_teams=calculateTheWL5(games_teams,i,ids_of_teams[k],max_games)"
      ],
      "metadata": {
        "id": "FUwxM9L6yhnU"
      },
      "execution_count": null,
      "outputs": []
    },
    {
      "cell_type": "code",
      "source": [
        "for k in range(27):\n",
        "  for i in range(2003,2021,1) :\n",
        "    if i==2011:\n",
        "      games_teams=fixPostSeasonAveragesWL5(games_teams,i,ids_of_teams[k],66)\n",
        "    elif i==2019:\n",
        "      games_teams=fixPostSeasonAveragesWL5(games_teams,i,ids_of_teams[k],number_of_2019_games[k])\n",
        "    elif i==2020:\n",
        "      games_teams=fixPostSeasonAveragesWL5(games_teams,i,ids_of_teams[k],72)\n",
        "    elif i==2021:\n",
        "      games_teams=fixPostSeasonAveragesWL5(games_teams,i,ids_of_teams[k],68)\n",
        "    elif i==2012 :\n",
        "      if ((ids_of_teams[k]==1610612754) | (ids_of_teams[k]==1610612738)):\n",
        "        games_teams=fixPostSeasonAveragesWL5(games_teams,i,ids_of_teams[k],81)\n",
        "      else :\n",
        "        games_teams=fixPostSeasonAveragesWL5(games_teams,i,ids_of_teams[k],max_games)\n",
        "    else :\n",
        "      games_teams=fixPostSeasonAveragesWL5(games_teams,i,ids_of_teams[k],max_games)\n",
        "\n",
        "for k in range(27,28,1):\n",
        "  for i in range(2004,2021,1) :\n",
        "    if i==2011:\n",
        "      games_teams=fixPostSeasonAveragesWL5(games_teams,i,ids_of_teams[k],66)\n",
        "    elif i==2019:\n",
        "      games_teams=fixPostSeasonAveragesWL5(games_teams,i,ids_of_teams[k],number_of_2019_games[k])\n",
        "    elif i==2020:\n",
        "      games_teams=fixPostSeasonAveragesWL5(games_teams,i,ids_of_teams[k],72)\n",
        "    elif i==2021:\n",
        "      games_teams=fixPostSeasonAveragesWL5(games_teams,i,ids_of_teams[k],68)\n",
        "    elif i==2012 :\n",
        "      if ((ids_of_teams[k]==1610612754) | (ids_of_teams[k]==1610612738)):\n",
        "        games_teams=fixPostSeasonAveragesWL5(games_teams,i,ids_of_teams[k],81)\n",
        "      else :\n",
        "        games_teams=fixPostSeasonAveragesWL5(games_teams,i,ids_of_teams[k],max_games)\n",
        "    else :\n",
        "      games_teams=fixPostSeasonAveragesWL5(games_teams,i,ids_of_teams[k],max_games)\n",
        "\n",
        "\n",
        "for k in range(28,30,1):\n",
        "  for i in range(2003,2021,1) :\n",
        "    if i==2011:\n",
        "      games_teams=fixPostSeasonAveragesWL5(games_teams,i,ids_of_teams[k],66)\n",
        "    elif i==2019:\n",
        "      games_teams=fixPostSeasonAveragesWL5(games_teams,i,ids_of_teams[k],number_of_2019_games[k])\n",
        "    elif i==2020:\n",
        "      games_teams=fixPostSeasonAveragesWL5(games_teams,i,ids_of_teams[k],72)\n",
        "    elif i==2021:\n",
        "      games_teams=fixPostSeasonAveragesWL5(games_teams,i,ids_of_teams[k],68)\n",
        "    elif i==2012 :\n",
        "      if ((ids_of_teams[k]==1610612754) | (ids_of_teams[k]==1610612738)):\n",
        "        games_teams=fixPostSeasonAveragesWL5(games_teams,i,ids_of_teams[k],81)\n",
        "      else :\n",
        "        games_teams=fixPostSeasonAveragesWL5(games_teams,i,ids_of_teams[k],max_games)\n",
        "    else :\n",
        "      games_teams=fixPostSeasonAveragesWL5(games_teams,i,ids_of_teams[k],max_games)\n",
        "\n"
      ],
      "metadata": {
        "id": "59WzHOchzvNQ"
      },
      "execution_count": null,
      "outputs": []
    },
    {
      "cell_type": "code",
      "source": [
        "for k in range(27):\n",
        "  for i in range(2003,2021,1) :\n",
        "    if i==2011:\n",
        "      games_teams=calculateTheSeasonAveragesPerGameWL5(games_teams,i,ids_of_teams[k],66)\n",
        "    elif i==2019:\n",
        "      games_teams=calculateTheSeasonAveragesPerGameWL5(games_teams,i,ids_of_teams[k],number_of_2019_games[k])\n",
        "    elif i==2020:\n",
        "      games_teams=calculateTheSeasonAveragesPerGameWL5(games_teams,i,ids_of_teams[k],72)\n",
        "    elif i==2021:\n",
        "      games_teams=calculateTheSeasonAveragesPerGameWL5(games_teams,i,ids_of_teams[k],68)\n",
        "    elif i==2012 :\n",
        "      if ((ids_of_teams[k]==1610612754) | (ids_of_teams[k]==1610612738)):\n",
        "        games_teams=calculateTheSeasonAveragesPerGameWL5(games_teams,i,ids_of_teams[k],81)\n",
        "      else :\n",
        "        games_teams=calculateTheSeasonAveragesPerGameWL5(games_teams,i,ids_of_teams[k],max_games)\n",
        "    else :\n",
        "      games_teams=calculateTheSeasonAveragesPerGameWL5(games_teams,i,ids_of_teams[k],max_games)\n",
        "\n",
        "for k in range(27,28,1):\n",
        "  for i in range(2004,2021,1) :\n",
        "    if i==2011:\n",
        "      games_teams=calculateTheSeasonAveragesPerGameWL5(games_teams,i,ids_of_teams[k],66)\n",
        "    elif i==2019:\n",
        "      games_teams=calculateTheSeasonAveragesPerGameWL5(games_teams,i,ids_of_teams[k],number_of_2019_games[k])\n",
        "    elif i==2020:\n",
        "      games_teams=calculateTheSeasonAveragesPerGameWL5(games_teams,i,ids_of_teams[k],72)\n",
        "    elif i==2021:\n",
        "      games_teams=calculateTheSeasonAveragesPerGameWL5(games_teams,i,ids_of_teams[k],68)\n",
        "    elif i==2012 :\n",
        "      if ((ids_of_teams[k]==1610612754) | (ids_of_teams[k]==1610612738)):\n",
        "        games_teams=calculateTheSeasonAveragesPerGameWL5(games_teams,i,ids_of_teams[k],81)\n",
        "      else :\n",
        "        games_teams=calculateTheSeasonAveragesPerGameWL5(games_teams,i,ids_of_teams[k],max_games)\n",
        "    else :\n",
        "      games_teams=calculateTheSeasonAveragesPerGameWL5(games_teams,i,ids_of_teams[k],max_games)\n",
        "for k in range(28,30,1):\n",
        "  for i in range(2003,2021,1) :\n",
        "    if i==2011:\n",
        "      games_teams=calculateTheSeasonAveragesPerGameWL5(games_teams,i,ids_of_teams[k],66)\n",
        "    elif i==2019:\n",
        "      games_teams=calculateTheSeasonAveragesPerGameWL5(games_teams,i,ids_of_teams[k],number_of_2019_games[k])\n",
        "    elif i==2020:\n",
        "      games_teams=calculateTheSeasonAveragesPerGameWL5(games_teams,i,ids_of_teams[k],72)\n",
        "    elif i==2021:\n",
        "      games_teams=calculateTheSeasonAveragesPerGameWL5(games_teams,i,ids_of_teams[k],68)\n",
        "    elif i==2012 :\n",
        "      if ((ids_of_teams[k]==1610612754) | (ids_of_teams[k]==1610612738)):\n",
        "        games_teams=calculateTheSeasonAveragesPerGameWL5(games_teams,i,ids_of_teams[k],81)\n",
        "      else :\n",
        "        games_teams=calculateTheSeasonAveragesPerGameWL5(games_teams,i,ids_of_teams[k],max_games)\n",
        "    else :\n",
        "      games_teams=calculateTheSeasonAveragesPerGameWL5(games_teams,i,ids_of_teams[k],max_games)"
      ],
      "metadata": {
        "id": "ycafZKufy8-3"
      },
      "execution_count": null,
      "outputs": []
    },
    {
      "cell_type": "code",
      "source": [
        "games_teams.to_csv('ptstotol5withwins.csv')"
      ],
      "metadata": {
        "id": "4qmDONm_FoWt"
      },
      "execution_count": null,
      "outputs": []
    },
    {
      "cell_type": "code",
      "source": [
        "games_teams=pd.read_csv('/content/ptstotol5withwins.csv')\n",
        "games_teams.drop('Unnamed: 0', inplace=True, axis=1)\n",
        "details=pd.read_csv('/content/games_details.csv',low_memory=False)"
      ],
      "metadata": {
        "id": "2rneR3liGF0R"
      },
      "execution_count": null,
      "outputs": []
    },
    {
      "cell_type": "code",
      "source": [
        "def calculate_home_season_netrating(row):\n",
        "  off_r=row.H_S_PTS\n",
        "  def_r=row.H_S_PTS_A\n",
        "  final=off_r - def_r\n",
        "  return final\n",
        "\n",
        "def calculate_away_season_netrating(row):\n",
        "  off_r=row.A_S_PTS\n",
        "  def_r=row.A_S_PTS_A\n",
        "  final=off_r - def_r\n",
        "  return final"
      ],
      "metadata": {
        "id": "nhOR_TvtIRFQ"
      },
      "execution_count": null,
      "outputs": []
    },
    {
      "cell_type": "code",
      "source": [
        "def calculate_home_l5_netrating(row):\n",
        "  off_r=row.H_L5_PTS\n",
        "  def_r=row.H_L5_PTS_A\n",
        "  final=off_r - def_r\n",
        "  return final\n",
        "\n",
        "def calculate_away_l5_netrating(row):\n",
        "  off_r=row.A_L5_PTS\n",
        "  def_r=row.A_L5_PTS_A\n",
        "  final=off_r - def_r\n",
        "  return final"
      ],
      "metadata": {
        "id": "vemThCIMJFDo"
      },
      "execution_count": null,
      "outputs": []
    },
    {
      "cell_type": "code",
      "source": [
        "games_teams['H_S_NET_RATING']=games_teams.apply(lambda row: calculate_home_season_netrating(row), axis=1)\n",
        "games_teams['A_S_NET_RATING']=games_teams.apply(lambda row: calculate_away_season_netrating(row), axis=1)\n",
        "games_teams['H_L5_NET_RATING']=games_teams.apply(lambda row: calculate_home_l5_netrating(row), axis=1)\n",
        "games_teams['A_L5_NET_RATING']=games_teams.apply(lambda row: calculate_away_l5_netrating(row), axis=1)"
      ],
      "metadata": {
        "id": "GfZ7HQLOH_ya"
      },
      "execution_count": null,
      "outputs": []
    },
    {
      "cell_type": "code",
      "source": [
        "columns=[['FGA','FGA_home','FGA_away'],['FG3A','FG3A_home','FG3A_away'],['FTA','FTA_home','FTA_away'],['FGM','FGM_home','FGM_away'],['FG3M','FG3M_home','FG3M_away'],['FTM','FTM_home','FTM_away']]\n",
        "for column in columns: \n",
        "  games_teams[column[1]]=0\n",
        "  games_teams[column[2]]=0\n",
        "for column in columns :\n",
        "  games_teams[column[1]]=games_teams.apply(lambda row:addStatsToGames(row,details,'HOME_TEAM_ID',column[0]), axis=1)\n",
        "for column in columns :\n",
        "  games_teams[column[2]]=games_teams.apply(lambda row:addStatsToGames(row,details,'VISITOR_TEAM_ID',column[0]), axis=1)\n",
        "print(games_teams)"
      ],
      "metadata": {
        "id": "gPZCz9inG0Ff"
      },
      "execution_count": null,
      "outputs": []
    },
    {
      "cell_type": "code",
      "source": [
        "columns=[['OREB','OREB_home','OREB_away'],['DREB','DREB_home','DREB_away'],['PF','PF_home','PF_away']]\n",
        "for column in columns: \n",
        "  games_teams[column[1]]=0\n",
        "  games_teams[column[2]]=0\n",
        "for column in columns :\n",
        "  games_teams[column[1]]=games_teams.apply(lambda row:addStatsToGames(row,details,'HOME_TEAM_ID',column[0]), axis=1)\n",
        "for column in columns :\n",
        "  games_teams[column[2]]=games_teams.apply(lambda row:addStatsToGames(row,details,'VISITOR_TEAM_ID',column[0]), axis=1)\n",
        "print(games_teams)"
      ],
      "metadata": {
        "id": "YdVi0vaaWYRk"
      },
      "execution_count": null,
      "outputs": []
    },
    {
      "cell_type": "code",
      "source": [
        "games_teams.to_csv('Allboxscorestats.csv')"
      ],
      "metadata": {
        "id": "DlD90t4EWvWx"
      },
      "execution_count": null,
      "outputs": []
    },
    {
      "cell_type": "code",
      "source": [
        "columns=['FGA','FG3A','FTA','FGM','FG3M','FTM','OREB','DREB','PF']"
      ],
      "metadata": {
        "id": "4fyf6SO8-Fne"
      },
      "execution_count": null,
      "outputs": []
    },
    {
      "cell_type": "code",
      "source": [
        "games_teams['H_S_FGA']=0\n",
        "games_teams['A_S_FGA']=0\n",
        "games_teams['H_S_FGA_A']=0\n",
        "games_teams['A_S_FGA_A']=0\n",
        "games_teams['H_S_FG3A']=0\n",
        "games_teams['A_S_FG3A']=0\n",
        "games_teams['H_S_FG3A_A']=0\n",
        "games_teams['A_S_FG3A_A']=0\n",
        "games_teams['H_S_FTA']=0\n",
        "games_teams['A_S_FTA']=0\n",
        "games_teams['H_S_FTA_A']=0\n",
        "games_teams['A_S_FTA_A']=0\n",
        "games_teams['H_S_FGM']=0\n",
        "games_teams['A_S_FGM']=0\n",
        "games_teams['H_S_FGM_A']=0\n",
        "games_teams['A_S_FGM_A']=0\n",
        "games_teams['H_S_FG3M']=0\n",
        "games_teams['A_S_FG3M']=0\n",
        "games_teams['H_S_FG3M_A']=0\n",
        "games_teams['A_S_FG3M_A']=0\n",
        "games_teams['H_S_FTM']=0\n",
        "games_teams['A_S_FTM']=0\n",
        "games_teams['H_S_FTM_A']=0\n",
        "games_teams['A_S_FTM_A']=0\n",
        "games_teams['H_S_OREB']=0\n",
        "games_teams['A_S_OREB']=0\n",
        "games_teams['H_S_OREB_A']=0\n",
        "games_teams['A_S_OREB_A']=0\n",
        "games_teams['H_S_DREB']=0\n",
        "games_teams['A_S_DREB']=0\n",
        "games_teams['H_S_DREB_A']=0\n",
        "games_teams['A_S_DREB_A']=0\n",
        "games_teams['H_S_PF']=0\n",
        "games_teams['A_S_PF']=0\n",
        "games_teams['H_S_PF_A']=0\n",
        "games_teams['A_S_PF_A']=0"
      ],
      "metadata": {
        "id": "YBQHQm4uExNE"
      },
      "execution_count": null,
      "outputs": []
    },
    {
      "cell_type": "code",
      "source": [
        "games_teams=genericFunctionCallerSplitFirst(games_teams,columns,calculateTheSeasonAveragesGeneric)"
      ],
      "metadata": {
        "id": "XNhseNf2HAh3"
      },
      "execution_count": null,
      "outputs": []
    },
    {
      "cell_type": "code",
      "source": [
        "games_teams=genericFunctionCallerSplitSecond(games_teams,columns,calculateTheSeasonAveragesGeneric)"
      ],
      "metadata": {
        "id": "dQpiEGEpHAh4"
      },
      "execution_count": null,
      "outputs": []
    },
    {
      "cell_type": "code",
      "source": [
        "games_teams=genericFunctionCallerSplitFirst(games_teams,columns,fixPostSeasonAveragesGeneric)"
      ],
      "metadata": {
        "id": "zRR43OYJHAh5"
      },
      "execution_count": null,
      "outputs": []
    },
    {
      "cell_type": "code",
      "source": [
        "games_teams=genericFunctionCallerSplitSecond(games_teams,columns,fixPostSeasonAveragesGeneric)"
      ],
      "metadata": {
        "id": "TEmMs7UcHAh6"
      },
      "execution_count": null,
      "outputs": []
    },
    {
      "cell_type": "code",
      "source": [
        "games_teams=genericFunctionCallerSplitFirst(games_teams,columns,calculateTheSeasonAveragesPerGameGeneric)"
      ],
      "metadata": {
        "id": "vywbAImFHAh7"
      },
      "execution_count": null,
      "outputs": []
    },
    {
      "cell_type": "code",
      "source": [
        "games_teams=genericFunctionCallerSplitSecond(games_teams,columns,calculateTheSeasonAveragesPerGameGeneric)"
      ],
      "metadata": {
        "id": "NoOp4nFkHAh7"
      },
      "execution_count": null,
      "outputs": []
    },
    {
      "cell_type": "code",
      "source": [
        "games_teams['H_L5_FGA']=0\n",
        "games_teams['A_L5_FGA']=0\n",
        "games_teams['H_L5_FGA_A']=0\n",
        "games_teams['A_L5_FGA_A']=0\n",
        "games_teams['H_L5_FG3A']=0\n",
        "games_teams['A_L5_FG3A']=0\n",
        "games_teams['H_L5_FG3A_A']=0\n",
        "games_teams['A_L5_FG3A_A']=0\n",
        "games_teams['H_L5_FTA']=0\n",
        "games_teams['A_L5_FTA']=0\n",
        "games_teams['H_L5_FTA_A']=0\n",
        "games_teams['A_L5_FTA_A']=0\n",
        "games_teams['H_L5_FGM']=0\n",
        "games_teams['A_L5_FGM']=0\n",
        "games_teams['H_L5_FGM_A']=0\n",
        "games_teams['A_L5_FGM_A']=0\n",
        "games_teams['H_L5_FG3M']=0\n",
        "games_teams['A_L5_FG3M']=0\n",
        "games_teams['H_L5_FG3M_A']=0\n",
        "games_teams['A_L5_FG3M_A']=0\n",
        "games_teams['H_L5_FTM']=0\n",
        "games_teams['A_L5_FTM']=0\n",
        "games_teams['H_L5_FTM_A']=0\n",
        "games_teams['A_L5_FTM_A']=0\n",
        "games_teams['H_L5_OREB']=0\n",
        "games_teams['A_L5_OREB']=0\n",
        "games_teams['H_L5_OREB_A']=0\n",
        "games_teams['A_L5_OREB_A']=0\n",
        "games_teams['H_L5_DREB']=0\n",
        "games_teams['A_L5_DREB']=0\n",
        "games_teams['H_L5_DREB_A']=0\n",
        "games_teams['A_L5_DREB_A']=0\n",
        "games_teams['H_L5_PF']=0\n",
        "games_teams['A_L5_PF']=0\n",
        "games_teams['H_L5_PF_A']=0\n",
        "games_teams['A_L5_PF_A']=0"
      ],
      "metadata": {
        "id": "pikucRp2m_2h"
      },
      "execution_count": null,
      "outputs": []
    },
    {
      "cell_type": "code",
      "source": [
        "games_teams=genericFunctionCallerSplitFirst(games_teams,columns,calculateTheSeasonAveragesGenericL5)"
      ],
      "metadata": {
        "id": "d75uvrhRHKjP"
      },
      "execution_count": null,
      "outputs": []
    },
    {
      "cell_type": "code",
      "source": [
        "games_teams=genericFunctionCallerSplitSecond(games_teams,columns,calculateTheSeasonAveragesGenericL5)"
      ],
      "metadata": {
        "id": "ZEic7IF4HKjQ"
      },
      "execution_count": null,
      "outputs": []
    },
    {
      "cell_type": "code",
      "source": [
        "games_teams=genericFunctionCallerSplitFirst(games_teams,columns,fixPostSeasonAveragesGenericL5)"
      ],
      "metadata": {
        "id": "9HgJ6LjKHKjQ"
      },
      "execution_count": null,
      "outputs": []
    },
    {
      "cell_type": "code",
      "source": [
        "games_teams=genericFunctionCallerSplitSecond(games_teams,columns,fixPostSeasonAveragesGenericL5)"
      ],
      "metadata": {
        "id": "egK8JdnCHKjR"
      },
      "execution_count": null,
      "outputs": []
    },
    {
      "cell_type": "code",
      "source": [
        "games_teams=genericFunctionCallerSplitFirst(games_teams,columns,calculateTheSeasonAveragesPerGameGenericL5)"
      ],
      "metadata": {
        "id": "O6YV5EVvHKjS"
      },
      "execution_count": null,
      "outputs": []
    },
    {
      "cell_type": "code",
      "source": [
        "games_teams=genericFunctionCallerSplitSecond(games_teams,columns,calculateTheSeasonAveragesPerGameGenericL5)"
      ],
      "metadata": {
        "id": "swWugLKZHKjS"
      },
      "execution_count": null,
      "outputs": []
    },
    {
      "cell_type": "code",
      "source": [
        "games_teams.to_csv('allstatswithl5averages.csv')"
      ],
      "metadata": {
        "id": "13viEPWkGdFn"
      },
      "execution_count": null,
      "outputs": []
    },
    {
      "cell_type": "markdown",
      "source": [
        ""
      ],
      "metadata": {
        "id": "croJBo1ZoYU6"
      }
    },
    {
      "cell_type": "markdown",
      "source": [
        "# True Shooting, Effective field goal calculation,Head to Head records, plus preparing data for the predictions"
      ],
      "metadata": {
        "id": "HbwTD8D3oYlc"
      }
    },
    {
      "cell_type": "code",
      "source": [
        "def calculate_home_season_true_shooting(row):\n",
        "  pts=row.H_S_PTS\n",
        "  fga=row.H_S_FGA\n",
        "  fta=row.H_S_FTA\n",
        "  final=0\n",
        "  if ( fga + fta ) > 0 : \n",
        "    final= pts/(2*(fga + (0.44*fta)))\n",
        "  return final\n",
        "\n",
        "def calculate_away_season_true_shooting(row):\n",
        "  pts=row.A_S_PTS\n",
        "  fga=row.A_S_FGA\n",
        "  fta=row.A_S_FTA\n",
        "  final=0\n",
        "  if ( fga + fta ) > 0 : \n",
        "    final= pts/(2*(fga + (0.44*fta)))\n",
        "  return final"
      ],
      "metadata": {
        "id": "P1B7q0vYWjhh"
      },
      "execution_count": null,
      "outputs": []
    },
    {
      "cell_type": "code",
      "source": [
        "def calculate_home_l5_true_shooting(row):\n",
        "  pts=row.H_L5_PTS\n",
        "  fga=row.H_L5_FGA\n",
        "  fta=row.H_L5_FTA\n",
        "  final=0\n",
        "  if ( fga + fta ) > 0 : \n",
        "    final= pts/(2*(fga + (0.44*fta)))\n",
        "  return final\n",
        "\n",
        "def calculate_away_l5_true_shooting(row):\n",
        "  pts=row.A_L5_PTS\n",
        "  fga=row.A_L5_FGA\n",
        "  fta=row.A_L5_FTA\n",
        "  final=0\n",
        "  if ( fga + fta ) > 0 : \n",
        "    final= pts/(2*(fga + (0.44*fta)))\n",
        "  return final"
      ],
      "metadata": {
        "id": "7DfORhHkMyjS"
      },
      "execution_count": null,
      "outputs": []
    },
    {
      "cell_type": "code",
      "source": [
        "def calculate_home_season_true_shooting_allowed(row):\n",
        "  pts=row.H_S_PTS_A\n",
        "  fga=row.H_S_FGA_A\n",
        "  fta=row.H_S_FTA_A\n",
        "  final=0\n",
        "  if ( fga + fta ) > 0 : \n",
        "    final= pts/(2*(fga + (0.44*fta)))\n",
        "  return final\n",
        "\n",
        "def calculate_away_season_true_shooting_allowed(row):\n",
        "  pts=row.A_S_PTS_A\n",
        "  fga=row.A_S_FGA_A\n",
        "  fta=row.A_S_FTA_A\n",
        "  final=0\n",
        "  if ( fga + fta ) > 0 : \n",
        "    final= pts/(2*(fga + (0.44*fta)))\n",
        "  return final"
      ],
      "metadata": {
        "id": "4OGk-FRlZUSh"
      },
      "execution_count": null,
      "outputs": []
    },
    {
      "cell_type": "code",
      "source": [
        "def calculate_home_l5_true_shooting_allowed(row):\n",
        "  pts=row.H_L5_PTS_A\n",
        "  fga=row.H_L5_FGA_A\n",
        "  fta=row.H_L5_FTA_A\n",
        "  final=0\n",
        "  if ( fga + fta ) > 0 : \n",
        "    final= pts/(2*(fga + (0.44*fta)))\n",
        "  return final\n",
        "\n",
        "def calculate_away_l5_true_shooting_allowed(row):\n",
        "  pts=row.A_L5_PTS_A\n",
        "  fga=row.A_L5_FGA_A\n",
        "  fta=row.A_L5_FTA_A\n",
        "  final=0\n",
        "  if ( fga + fta ) > 0 : \n",
        "    final= pts/(2*(fga + (0.44*fta)))\n",
        "  return final"
      ],
      "metadata": {
        "id": "lUPJ58v6M8_v"
      },
      "execution_count": null,
      "outputs": []
    },
    {
      "cell_type": "code",
      "source": [
        "def calculate_home_season_efg_shooting(row) :\n",
        "  fgm=row.H_S_FGM\n",
        "  fg3m=row.H_S_FG3M\n",
        "  fga=row.H_S_FGA\n",
        "  final=0\n",
        "  if fga > 0 :\n",
        "    final=(fgm + (fg3m * 0.5))/fga\n",
        "  return final \n",
        "\n",
        "def calculate_away_season_efg_shooting(row) :\n",
        "  fgm=row.A_S_FGM\n",
        "  fg3m=row.A_S_FG3M\n",
        "  fga=row.A_S_FGA\n",
        "  final=0\n",
        "  if fga > 0 :\n",
        "    final=(fgm + (fg3m * 0.5))/fga\n",
        "  return final "
      ],
      "metadata": {
        "id": "yrQjWWoraabG"
      },
      "execution_count": null,
      "outputs": []
    },
    {
      "cell_type": "code",
      "source": [
        "def calculate_home_l5_efg_shooting(row) :\n",
        "  fgm=row.H_L5_FGM\n",
        "  fg3m=row.H_L5_FG3M\n",
        "  fga=row.H_L5_FGA\n",
        "  final=0\n",
        "  if fga > 0 :\n",
        "    final=(fgm + (fg3m * 0.5))/fga\n",
        "  return final\n",
        "\n",
        "def calculate_away_l5_efg_shooting(row) :\n",
        "  fgm=row.A_L5_FGM\n",
        "  fg3m=row.A_L5_FG3M\n",
        "  fga=row.A_L5_FGA\n",
        "  final=0\n",
        "  if fga > 0 :\n",
        "    final=(fgm + (fg3m * 0.5))/fga\n",
        "  return final"
      ],
      "metadata": {
        "id": "bfSsQtvQNBbm"
      },
      "execution_count": null,
      "outputs": []
    },
    {
      "cell_type": "code",
      "source": [
        "def calculate_home_season_efg_shooting_allowed(row) :\n",
        "  fgm=row.H_S_FGM_A\n",
        "  fg3m=row.H_S_FG3M_A\n",
        "  fga=row.H_S_FGA_A\n",
        "  final=0\n",
        "  if fga > 0 :\n",
        "    final=(fgm + (fg3m * 0.5))/fga\n",
        "  return final \n",
        "\n",
        "def calculate_away_season_efg_shooting_allowed(row) :\n",
        "  fgm=row.A_S_FGM_A\n",
        "  fg3m=row.A_S_FG3M_A\n",
        "  fga=row.A_S_FGA_A\n",
        "  final=0\n",
        "  if fga > 0 :\n",
        "    final=(fgm + (fg3m * 0.5))/fga\n",
        "  return final "
      ],
      "metadata": {
        "id": "qL0Z3wtBb5kt"
      },
      "execution_count": null,
      "outputs": []
    },
    {
      "cell_type": "code",
      "source": [
        "def calculate_home_l5_efg_shooting_allowed(row) :\n",
        "  fgm=row.H_L5_FGM_A\n",
        "  fg3m=row.H_L5_FG3M_A\n",
        "  fga=row.H_L5_FGA_A\n",
        "  final=0\n",
        "  if fga > 0 :\n",
        "    final=(fgm + (fg3m * 0.5))/fga\n",
        "  return final\n",
        "\n",
        "def calculate_away_l5_efg_shooting_allowed(row) :\n",
        "  fgm=row.A_L5_FGM_A\n",
        "  fg3m=row.A_L5_FG3M_A\n",
        "  fga=row.A_L5_FGA_A\n",
        "  final=0\n",
        "  if fga > 0 :\n",
        "    final=(fgm + (fg3m * 0.5))/fga\n",
        "  return final"
      ],
      "metadata": {
        "id": "YBmc8mGGNOK6"
      },
      "execution_count": null,
      "outputs": []
    },
    {
      "cell_type": "code",
      "source": [
        "games_teams['H_S_TS']=games_teams.apply(lambda row: calculate_home_season_true_shooting(row), axis=1)\n",
        "games_teams['A_S_TS']=games_teams.apply(lambda row: calculate_away_season_true_shooting(row), axis=1)\n",
        "games_teams['H_L5_TS']=games_teams.apply(lambda row: calculate_home_l5_true_shooting(row), axis=1)\n",
        "games_teams['A_L5_TS']=games_teams.apply(lambda row: calculate_away_l5_true_shooting(row), axis=1)"
      ],
      "metadata": {
        "id": "EtqXh5Y_YqFV"
      },
      "execution_count": null,
      "outputs": []
    },
    {
      "cell_type": "code",
      "source": [
        "games_teams['H_S_TS_A']=games_teams.apply(lambda row: calculate_home_season_true_shooting_allowed(row), axis=1)\n",
        "games_teams['A_S_TS_A']=games_teams.apply(lambda row: calculate_away_season_true_shooting_allowed(row), axis=1)\n",
        "games_teams['H_L5_TS_A']=games_teams.apply(lambda row: calculate_home_l5_true_shooting_allowed(row), axis=1)\n",
        "games_teams['A_L5_TS_A']=games_teams.apply(lambda row: calculate_away_l5_true_shooting_allowed(row), axis=1)"
      ],
      "metadata": {
        "id": "Vo8JAlyRaQPo"
      },
      "execution_count": null,
      "outputs": []
    },
    {
      "cell_type": "code",
      "source": [
        "games_teams['H_S_EFG']=games_teams.apply(lambda row: calculate_home_season_efg_shooting(row), axis=1)\n",
        "games_teams['A_S_EFG']=games_teams.apply(lambda row: calculate_away_season_efg_shooting(row), axis=1)\n",
        "games_teams['H_L5_EFG']=games_teams.apply(lambda row: calculate_home_l5_efg_shooting(row), axis=1)\n",
        "games_teams['A_L5_EFG']=games_teams.apply(lambda row: calculate_away_l5_efg_shooting(row), axis=1)"
      ],
      "metadata": {
        "id": "nRcJoM-Tbkj3"
      },
      "execution_count": null,
      "outputs": []
    },
    {
      "cell_type": "code",
      "source": [
        "games_teams['H_S_EFG_A']=games_teams.apply(lambda row: calculate_home_season_efg_shooting_allowed(row), axis=1)\n",
        "games_teams['A_S_EFG_A']=games_teams.apply(lambda row: calculate_away_season_efg_shooting_allowed(row), axis=1)\n",
        "games_teams['H_L5_EFG_A']=games_teams.apply(lambda row: calculate_home_l5_efg_shooting_allowed(row), axis=1)\n",
        "games_teams['A_L5_EFG_A']=games_teams.apply(lambda row: calculate_away_l5_efg_shooting_allowed(row), axis=1)"
      ],
      "metadata": {
        "id": "nCUGnJMFcATU"
      },
      "execution_count": null,
      "outputs": []
    },
    {
      "cell_type": "code",
      "source": [
        "games_teams.to_csv('allstatsaveragesplusshootingadvanced.csv')"
      ],
      "metadata": {
        "id": "DIjd6r6kcJp6"
      },
      "execution_count": null,
      "outputs": []
    },
    {
      "cell_type": "code",
      "source": [
        "data_teams=pd.read_csv('/content/allstatsaveragesplusshootingadvanced.csv')\n",
        "data_teams.drop('Unnamed: 0', inplace=True, axis=1)"
      ],
      "metadata": {
        "id": "q-mdq4LVo3eS"
      },
      "execution_count": null,
      "outputs": []
    },
    {
      "cell_type": "code",
      "source": [
        "games_teams=data_teams.copy()"
      ],
      "metadata": {
        "id": "bz98YzxZo3eT"
      },
      "execution_count": null,
      "outputs": []
    },
    {
      "cell_type": "code",
      "source": [
        "def caclulateTotalGamesHome(row) :\n",
        "  return row.H_G\n",
        "def caclulateTotalGamesAway(row) :\n",
        "  return row.A_G"
      ],
      "metadata": {
        "id": "_37FIKuwjwKU"
      },
      "execution_count": null,
      "outputs": []
    },
    {
      "cell_type": "code",
      "source": [
        "games_teams['H_TG']=games_teams.apply(lambda row: caclulateTotalGamesHome(row), axis=1)\n",
        "games_teams['A_TG']=games_teams.apply(lambda row: caclulateTotalGamesAway(row), axis=1)"
      ],
      "metadata": {
        "id": "T87af1-jjwKU"
      },
      "execution_count": null,
      "outputs": []
    },
    {
      "cell_type": "code",
      "source": [
        "def calculateTotalGames(table,year,team,max_games,columns):\n",
        "  results=table.loc[(((table['HOME_TEAM_ID']==team)&(table['H_G']==max_games)) | ((table['VISITOR_TEAM_ID']==team)&(table['A_G']==max_games))) & (table['SEASON']==year)]\n",
        "  results_regular=table.loc[((table['HOME_TEAM_ID']==team) | (table['VISITOR_TEAM_ID']==team)) & (table['SEASON']==year)]\n",
        "  last_regular_season_game_date=results['GAME_DATE_EST'].min()\n",
        "  lrsg=results.loc[results['GAME_DATE_EST'].str.startswith(last_regular_season_game_date)]\n",
        "  last=lrsg.copy()\n",
        "  results2=results.copy()\n",
        "  results=results.drop(index=lrsg.index)\n",
        "  amount_of_games=len(results)\n",
        "  index=calculateOrderBasedOnDate(results)\n",
        "  amount_fixed=0\n",
        "  while amount_fixed < amount_of_games :\n",
        "    game_info_temp=results.loc[index[amount_fixed]]\n",
        "    game_info=results.loc[results['GAME_ID']==game_info_temp['GAME_ID']]\n",
        "    if(game_info['HOME_TEAM_ID'].values[0]==team) :\n",
        "      table.loc[game_info.index,['H_TG']]= max_games + 1 + amount_fixed\n",
        "    else :\n",
        "      table.loc[game_info.index,['A_TG']]= max_games + 1 + amount_fixed\n",
        "    amount_fixed=amount_fixed + 1\n",
        "  return table  "
      ],
      "metadata": {
        "id": "5ICy1cvCjwKV"
      },
      "execution_count": null,
      "outputs": []
    },
    {
      "cell_type": "code",
      "source": [
        "games_teams=genericFunctionCaller(games_teams,['null'],calculateTotalGames)"
      ],
      "metadata": {
        "id": "MGsRFxHzjwKW"
      },
      "execution_count": null,
      "outputs": []
    },
    {
      "cell_type": "code",
      "source": [
        "def calculateHeadToHeadMatchups(table,year,team,max_games,columns):\n",
        "  results=table.loc[((table['HOME_TEAM_ID']==team) | (table['VISITOR_TEAM_ID']==team)) & (table['SEASON']==year)]\n",
        "  year_classify=20000 + year  \n",
        "  results=results.loc[(results['H_SEASON_ID']==year_classify)|(results['A_SEASON_ID']==year_classify)]\n",
        "  games_played=2\n",
        "  results_playoff_only=table.loc[(((table['HOME_TEAM_ID']==team)&(table['H_G']==max_games)) | ((table['VISITOR_TEAM_ID']==team)&(table['A_G']==max_games))) & (table['SEASON']==year)]\n",
        "  amount_of_games_added=len(results_playoff_only) - 1\n",
        "  max_all=max_games + amount_of_games_added + 1\n",
        "  while games_played< max_all :\n",
        "    game_info=results.loc[((results['HOME_TEAM_ID']==team)&(results['H_TG']==games_played))|((results['VISITOR_TEAM_ID']==team)&(results['A_TG']==games_played))]\n",
        "    other_team_id=0\n",
        "    if(game_info['HOME_TEAM_ID'].values[0]==team) :\n",
        "      other_team_id=game_info['VISITOR_TEAM_ID'].values[0]\n",
        "    else :\n",
        "      other_team_id=game_info['HOME_TEAM_ID'].values[0]\n",
        "    head_to_head=results.loc[(((results['HOME_TEAM_ID']==team)&(results['H_TG']<games_played)) & (results['VISITOR_TEAM_ID']==other_team_id))|(((results['VISITOR_TEAM_ID']==team)&(results['A_TG']<games_played))& (results['HOME_TEAM_ID']==other_team_id))]\n",
        "    amount_of_games=len(head_to_head)\n",
        "    index=calculateOrderBasedOnDate(head_to_head)\n",
        "    amount_fixed=0\n",
        "    winper=0\n",
        "    while amount_fixed<amount_of_games :\n",
        "      game_temp=head_to_head.loc[index[amount_fixed]]\n",
        "      game=head_to_head.loc[head_to_head['GAME_ID']==game_temp['GAME_ID']]\n",
        "      if (game['HOME_TEAM_ID'].values[0]==team) :\n",
        "        winper=winper + game['HOME_TEAM_WINS'].values[0]\n",
        "      else :\n",
        "        winper=winper + (1 - game['HOME_TEAM_WINS'].values[0])\n",
        "      amount_fixed=amount_fixed + 1\n",
        "    if amount_of_games > 0 :\n",
        "      winper=winper/amount_of_games\n",
        "    if(game_info['HOME_TEAM_ID'].values[0]==team) :\n",
        "      table.loc[game_info.index,'H_S_H2H']=winper\n",
        "      results.loc[game_info.index,'H_S_H2H']=winper\n",
        "    else :\n",
        "      table.loc[game_info.index,'A_S_H2H']=winper\n",
        "      results.loc[game_info.index,'A_S_H2H']=winper    \n",
        "    games_played=games_played + 1\n",
        "  return table"
      ],
      "metadata": {
        "id": "Jkm6juV4jwKW"
      },
      "execution_count": null,
      "outputs": []
    },
    {
      "cell_type": "code",
      "source": [
        "games_teams=genericFunctionCaller(games_teams,['null'],calculateHeadToHeadMatchups)"
      ],
      "metadata": {
        "id": "wg1PHpoAlrkZ"
      },
      "execution_count": null,
      "outputs": []
    },
    {
      "cell_type": "code",
      "source": [
        "games_teams.to_csv('allplushead2head.csv')"
      ],
      "metadata": {
        "id": "c8mncBirtOJw"
      },
      "execution_count": null,
      "outputs": []
    },
    {
      "cell_type": "code",
      "source": [
        "print(games_teams)"
      ],
      "metadata": {
        "id": "6vpY4EK3tXMj"
      },
      "execution_count": null,
      "outputs": []
    },
    {
      "cell_type": "code",
      "source": [
        "data_teams=pd.read_csv('/content/allstatsaveragesplusshootingadvanced.csv')\n",
        "data_teams.drop('Unnamed: 0', inplace=True, axis=1)"
      ],
      "metadata": {
        "id": "nNBspSkXgDck"
      },
      "execution_count": null,
      "outputs": []
    },
    {
      "cell_type": "code",
      "source": [
        "games_teams=data_teams.copy()"
      ],
      "metadata": {
        "id": "MMmVdNTYgVDQ"
      },
      "execution_count": null,
      "outputs": []
    },
    {
      "cell_type": "code",
      "source": [
        "game_data_temp=games_teams.copy()\n",
        "preseason=game_data_temp.loc[(game_data_temp['H_SEASON_ID']<20000)|(game_data_temp['A_SEASON_ID']<20000)]\n",
        "game_data_temp=game_data_temp.drop(index=preseason.index)\n",
        "unfinished_season=game_data_temp.loc[game_data_temp['SEASON']==2021]\n",
        "game_data_temp=game_data_temp.drop(index=unfinished_season.index)\n",
        "first_games=game_data_temp.loc[(game_data_temp['H_G']==1)|(game_data_temp['A_G']==1)]\n",
        "game_data_temp=game_data_temp.drop(index=first_games.index)\n",
        "game_data_temp.to_csv('game_data_teams_regular_season_and_playoffs_2003_2020.csv')"
      ],
      "metadata": {
        "id": "3cvIM-ANjPcL"
      },
      "execution_count": null,
      "outputs": []
    }
  ]
}